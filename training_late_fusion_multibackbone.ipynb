{
 "cells": [
  {
   "cell_type": "code",
   "execution_count": null,
   "id": "a5602fd0",
   "metadata": {},
   "outputs": [
    {
     "name": "stderr",
     "output_type": "stream",
     "text": [
      "/data/mahjabeen_workspace/Summer25_Project/symile/.venv/lib/python3.12/site-packages/tqdm/auto.py:21: TqdmWarning: IProgress not found. Please update jupyter and ipywidgets. See https://ipywidgets.readthedocs.io/en/stable/user_install.html\n",
      "  from .autonotebook import tqdm as notebook_tqdm\n"
     ]
    },
    {
     "name": "stdout",
     "output_type": "stream",
     "text": [
      "\n",
      "================================================================================\n",
      "[LATE FUSION] Training backbone: resnet50\n",
      "================================================================================\n"
     ]
    },
    {
     "name": "stderr",
     "output_type": "stream",
     "text": [
      "                                                                        \r"
     ]
    },
    {
     "name": "stdout",
     "output_type": "stream",
     "text": [
      "[resnet50] Epoch 1/30 | TrainLoss 0.4473 | TrainAUC 0.4912 | ValLoss 0.4293 | ValAUC_macro 0.5882 | ValAUC_flat 0.8455 | 25.7s | Peak 0.49 GB\n",
      "  Saved best @ epoch 1: 0.5882 → ./checkpoints/late_fusion_resnet50.pt\n"
     ]
    },
    {
     "name": "stderr",
     "output_type": "stream",
     "text": [
      "                                                                        \r"
     ]
    },
    {
     "name": "stdout",
     "output_type": "stream",
     "text": [
      "[resnet50] Epoch 2/30 | TrainLoss 0.4385 | TrainAUC 0.4784 | ValLoss 0.4290 | ValAUC_macro 0.5712 | ValAUC_flat 0.8429 | 46.0s | Peak 1.86 GB\n"
     ]
    },
    {
     "name": "stderr",
     "output_type": "stream",
     "text": [
      "                                                                        \r"
     ]
    },
    {
     "name": "stdout",
     "output_type": "stream",
     "text": [
      "[resnet50] Epoch 3/30 | TrainLoss 0.4333 | TrainAUC 0.5037 | ValLoss 0.4828 | ValAUC_macro 0.5115 | ValAUC_flat 0.8466 | 46.6s | Peak 1.86 GB\n"
     ]
    },
    {
     "name": "stderr",
     "output_type": "stream",
     "text": [
      "                                                                        \r"
     ]
    },
    {
     "name": "stdout",
     "output_type": "stream",
     "text": [
      "[resnet50] Epoch 4/30 | TrainLoss 0.4312 | TrainAUC 0.5302 | ValLoss 0.4287 | ValAUC_macro 0.5225 | ValAUC_flat 0.8454 | 46.9s | Peak 1.86 GB\n"
     ]
    },
    {
     "name": "stderr",
     "output_type": "stream",
     "text": [
      "                                                                        \r"
     ]
    },
    {
     "name": "stdout",
     "output_type": "stream",
     "text": [
      "[resnet50] Epoch 5/30 | TrainLoss 0.4294 | TrainAUC 0.5553 | ValLoss 0.4258 | ValAUC_macro 0.5676 | ValAUC_flat 0.8464 | 47.3s | Peak 1.86 GB\n"
     ]
    },
    {
     "name": "stderr",
     "output_type": "stream",
     "text": [
      "                                                                        \r"
     ]
    },
    {
     "name": "stdout",
     "output_type": "stream",
     "text": [
      "[resnet50] Epoch 6/30 | TrainLoss 0.4267 | TrainAUC 0.5970 | ValLoss 0.4317 | ValAUC_macro 0.5782 | ValAUC_flat 0.8449 | 47.0s | Peak 1.86 GB\n"
     ]
    },
    {
     "name": "stderr",
     "output_type": "stream",
     "text": [
      "                                                                        \r"
     ]
    },
    {
     "name": "stdout",
     "output_type": "stream",
     "text": [
      "[resnet50] Epoch 7/30 | TrainLoss 0.4180 | TrainAUC 0.6650 | ValLoss 0.4484 | ValAUC_macro 0.5865 | ValAUC_flat 0.8372 | 47.5s | Peak 1.86 GB\n"
     ]
    },
    {
     "name": "stderr",
     "output_type": "stream",
     "text": [
      "                                                                        \r"
     ]
    },
    {
     "name": "stdout",
     "output_type": "stream",
     "text": [
      "[resnet50] Epoch 8/30 | TrainLoss 0.3953 | TrainAUC 0.7508 | ValLoss 0.4605 | ValAUC_macro 0.5504 | ValAUC_flat 0.8443 | 47.6s | Peak 1.86 GB\n"
     ]
    },
    {
     "name": "stderr",
     "output_type": "stream",
     "text": [
      "                                                                        \r"
     ]
    },
    {
     "name": "stdout",
     "output_type": "stream",
     "text": [
      "[resnet50] Epoch 9/30 | TrainLoss 0.3629 | TrainAUC 0.8024 | ValLoss 0.6358 | ValAUC_macro 0.5405 | ValAUC_flat 0.8380 | 47.7s | Peak 1.86 GB\n"
     ]
    },
    {
     "name": "stderr",
     "output_type": "stream",
     "text": [
      "                                                                         \r"
     ]
    },
    {
     "name": "stdout",
     "output_type": "stream",
     "text": [
      "[resnet50] Epoch 10/30 | TrainLoss 0.3279 | TrainAUC 0.8456 | ValLoss 0.5039 | ValAUC_macro 0.5611 | ValAUC_flat 0.8426 | 47.9s | Peak 1.86 GB\n"
     ]
    },
    {
     "name": "stderr",
     "output_type": "stream",
     "text": [
      "                                                                         \r"
     ]
    },
    {
     "name": "stdout",
     "output_type": "stream",
     "text": [
      "[resnet50] Epoch 11/30 | TrainLoss 0.3005 | TrainAUC 0.8723 | ValLoss 0.9410 | ValAUC_macro 0.4958 | ValAUC_flat 0.8381 | 47.7s | Peak 1.86 GB\n"
     ]
    },
    {
     "name": "stderr",
     "output_type": "stream",
     "text": [
      "                                                                         \r"
     ]
    },
    {
     "name": "stdout",
     "output_type": "stream",
     "text": [
      "[resnet50] Epoch 12/30 | TrainLoss 0.2767 | TrainAUC 0.8867 | ValLoss 1.5061 | ValAUC_macro 0.4916 | ValAUC_flat 0.8236 | 47.1s | Peak 1.86 GB\n"
     ]
    },
    {
     "name": "stderr",
     "output_type": "stream",
     "text": [
      "                                                                         \r"
     ]
    },
    {
     "name": "stdout",
     "output_type": "stream",
     "text": [
      "[resnet50] Epoch 13/30 | TrainLoss 0.2655 | TrainAUC 0.9078 | ValLoss 0.8257 | ValAUC_macro 0.4771 | ValAUC_flat 0.8212 | 46.7s | Peak 1.86 GB\n"
     ]
    },
    {
     "name": "stderr",
     "output_type": "stream",
     "text": [
      "                                                                         \r"
     ]
    },
    {
     "name": "stdout",
     "output_type": "stream",
     "text": [
      "[resnet50] Epoch 14/30 | TrainLoss 0.2470 | TrainAUC 0.9199 | ValLoss 0.7367 | ValAUC_macro 0.4938 | ValAUC_flat 0.8288 | 46.4s | Peak 1.86 GB\n"
     ]
    },
    {
     "name": "stderr",
     "output_type": "stream",
     "text": [
      "                                                                         \r"
     ]
    },
    {
     "name": "stdout",
     "output_type": "stream",
     "text": [
      "[resnet50] Epoch 15/30 | TrainLoss 0.2311 | TrainAUC 0.9247 | ValLoss 0.6356 | ValAUC_macro 0.5078 | ValAUC_flat 0.7909 | 46.7s | Peak 1.86 GB\n"
     ]
    },
    {
     "name": "stderr",
     "output_type": "stream",
     "text": [
      "                                                                         \r"
     ]
    },
    {
     "name": "stdout",
     "output_type": "stream",
     "text": [
      "[resnet50] Epoch 16/30 | TrainLoss 0.2116 | TrainAUC 0.9345 | ValLoss 0.7294 | ValAUC_macro 0.5241 | ValAUC_flat 0.7867 | 46.5s | Peak 1.86 GB\n"
     ]
    },
    {
     "name": "stderr",
     "output_type": "stream",
     "text": [
      "                                                                         \r"
     ]
    },
    {
     "name": "stdout",
     "output_type": "stream",
     "text": [
      "[resnet50] Epoch 17/30 | TrainLoss 0.1889 | TrainAUC 0.9494 | ValLoss 0.6485 | ValAUC_macro 0.5251 | ValAUC_flat 0.7811 | 46.8s | Peak 1.86 GB\n"
     ]
    },
    {
     "name": "stderr",
     "output_type": "stream",
     "text": [
      "                                                                         \r"
     ]
    },
    {
     "name": "stdout",
     "output_type": "stream",
     "text": [
      "[resnet50] Epoch 18/30 | TrainLoss 0.1741 | TrainAUC 0.9511 | ValLoss 0.7962 | ValAUC_macro 0.5385 | ValAUC_flat 0.7962 | 46.6s | Peak 1.86 GB\n"
     ]
    },
    {
     "name": "stderr",
     "output_type": "stream",
     "text": [
      "                                                                         \r"
     ]
    },
    {
     "name": "stdout",
     "output_type": "stream",
     "text": [
      "[resnet50] Epoch 19/30 | TrainLoss 0.1669 | TrainAUC 0.9598 | ValLoss 0.7107 | ValAUC_macro 0.4894 | ValAUC_flat 0.7691 | 46.6s | Peak 1.86 GB\n"
     ]
    },
    {
     "name": "stderr",
     "output_type": "stream",
     "text": [
      "                                                                         \r"
     ]
    },
    {
     "name": "stdout",
     "output_type": "stream",
     "text": [
      "[resnet50] Epoch 20/30 | TrainLoss 0.1551 | TrainAUC 0.9647 | ValLoss 0.8769 | ValAUC_macro 0.4789 | ValAUC_flat 0.7937 | 46.7s | Peak 1.86 GB\n"
     ]
    },
    {
     "name": "stderr",
     "output_type": "stream",
     "text": [
      "                                                                         \r"
     ]
    },
    {
     "name": "stdout",
     "output_type": "stream",
     "text": [
      "[resnet50] Epoch 21/30 | TrainLoss 0.1462 | TrainAUC 0.9723 | ValLoss 1.0823 | ValAUC_macro 0.5096 | ValAUC_flat 0.8377 | 46.7s | Peak 1.86 GB\n"
     ]
    },
    {
     "name": "stderr",
     "output_type": "stream",
     "text": [
      "                                                                         \r"
     ]
    },
    {
     "name": "stdout",
     "output_type": "stream",
     "text": [
      "[resnet50] Epoch 22/30 | TrainLoss 0.1355 | TrainAUC 0.9670 | ValLoss 0.9279 | ValAUC_macro 0.4977 | ValAUC_flat 0.8222 | 46.8s | Peak 1.86 GB\n"
     ]
    },
    {
     "name": "stderr",
     "output_type": "stream",
     "text": [
      "                                                                         \r"
     ]
    },
    {
     "name": "stdout",
     "output_type": "stream",
     "text": [
      "[resnet50] Epoch 23/30 | TrainLoss 0.1204 | TrainAUC 0.9809 | ValLoss 0.8551 | ValAUC_macro 0.4997 | ValAUC_flat 0.7997 | 46.6s | Peak 1.86 GB\n"
     ]
    },
    {
     "name": "stderr",
     "output_type": "stream",
     "text": [
      "                                                                         \r"
     ]
    },
    {
     "name": "stdout",
     "output_type": "stream",
     "text": [
      "[resnet50] Epoch 24/30 | TrainLoss 0.1148 | TrainAUC 0.9781 | ValLoss 1.0440 | ValAUC_macro 0.5301 | ValAUC_flat 0.7973 | 46.7s | Peak 1.86 GB\n"
     ]
    },
    {
     "name": "stderr",
     "output_type": "stream",
     "text": [
      "                                                                         \r"
     ]
    },
    {
     "name": "stdout",
     "output_type": "stream",
     "text": [
      "[resnet50] Epoch 25/30 | TrainLoss 0.1063 | TrainAUC 0.9778 | ValLoss 1.2178 | ValAUC_macro 0.4840 | ValAUC_flat 0.8139 | 46.7s | Peak 1.86 GB\n"
     ]
    },
    {
     "name": "stderr",
     "output_type": "stream",
     "text": [
      "                                                                         \r"
     ]
    },
    {
     "name": "stdout",
     "output_type": "stream",
     "text": [
      "[resnet50] Epoch 26/30 | TrainLoss 0.0985 | TrainAUC 0.9837 | ValLoss 0.9128 | ValAUC_macro 0.5279 | ValAUC_flat 0.7971 | 46.4s | Peak 1.86 GB\n"
     ]
    },
    {
     "name": "stderr",
     "output_type": "stream",
     "text": [
      "                                                                         \r"
     ]
    },
    {
     "name": "stdout",
     "output_type": "stream",
     "text": [
      "[resnet50] Epoch 27/30 | TrainLoss 0.0918 | TrainAUC 0.9820 | ValLoss 1.2042 | ValAUC_macro 0.5103 | ValAUC_flat 0.8116 | 46.3s | Peak 1.86 GB\n"
     ]
    },
    {
     "name": "stderr",
     "output_type": "stream",
     "text": [
      "                                                                         \r"
     ]
    },
    {
     "name": "stdout",
     "output_type": "stream",
     "text": [
      "[resnet50] Epoch 28/30 | TrainLoss 0.0870 | TrainAUC 0.9832 | ValLoss 1.1744 | ValAUC_macro 0.5053 | ValAUC_flat 0.8169 | 46.8s | Peak 1.86 GB\n"
     ]
    },
    {
     "name": "stderr",
     "output_type": "stream",
     "text": [
      "                                                                         \r"
     ]
    },
    {
     "name": "stdout",
     "output_type": "stream",
     "text": [
      "[resnet50] Epoch 29/30 | TrainLoss 0.0819 | TrainAUC 0.9865 | ValLoss 0.8851 | ValAUC_macro 0.5599 | ValAUC_flat 0.7631 | 46.9s | Peak 1.86 GB\n"
     ]
    },
    {
     "name": "stderr",
     "output_type": "stream",
     "text": [
      "                                                                         \r"
     ]
    },
    {
     "name": "stdout",
     "output_type": "stream",
     "text": [
      "[resnet50] Epoch 30/30 | TrainLoss 0.0783 | TrainAUC 0.9883 | ValLoss 1.3756 | ValAUC_macro 0.4891 | ValAUC_flat 0.8184 | 46.7s | Peak 1.86 GB\n",
      "\n",
      "[FINISHED TRAINING] resnet50 | total_train_sec=1384.9s | overall_train_peak_gpu=1.86 GB\n",
      "Saved CUDA memory summary → ./checkpoints/memory_summary_train_resnet50.txt\n"
     ]
    },
    {
     "name": "stderr",
     "output_type": "stream",
     "text": [
      "                                                                \r"
     ]
    },
    {
     "name": "stdout",
     "output_type": "stream",
     "text": [
      "[EVAL DONE] resnet50 | test_macro_auc=0.5158 | test_flat_auc=0.8219 | eval_sec=14.6s | eval_peak_gpu=0.88 GB\n",
      "\n",
      "================================================================================\n",
      "[LATE FUSION] Training backbone: densenet121\n",
      "================================================================================\n"
     ]
    },
    {
     "name": "stderr",
     "output_type": "stream",
     "text": [
      "                                                                           \r"
     ]
    },
    {
     "name": "stdout",
     "output_type": "stream",
     "text": [
      "[densenet121] Epoch 1/30 | TrainLoss 0.4497 | TrainAUC 0.4857 | ValLoss 0.4292 | ValAUC_macro 0.5920 | ValAUC_flat 0.8471 | 27.5s | Peak 0.41 GB\n",
      "  Saved best @ epoch 1: 0.5920 → ./checkpoints/late_fusion_densenet121.pt\n"
     ]
    },
    {
     "name": "stderr",
     "output_type": "stream",
     "text": [
      "                                                                           \r"
     ]
    },
    {
     "name": "stdout",
     "output_type": "stream",
     "text": [
      "[densenet121] Epoch 2/30 | TrainLoss 0.4360 | TrainAUC 0.5129 | ValLoss 0.4329 | ValAUC_macro 0.5340 | ValAUC_flat 0.8419 | 55.2s | Peak 2.34 GB\n"
     ]
    },
    {
     "name": "stderr",
     "output_type": "stream",
     "text": [
      "                                                                           \r"
     ]
    },
    {
     "name": "stdout",
     "output_type": "stream",
     "text": [
      "[densenet121] Epoch 3/30 | TrainLoss 0.4321 | TrainAUC 0.5403 | ValLoss 0.4288 | ValAUC_macro 0.5422 | ValAUC_flat 0.8488 | 55.0s | Peak 2.34 GB\n"
     ]
    },
    {
     "name": "stderr",
     "output_type": "stream",
     "text": [
      "                                                                           \r"
     ]
    },
    {
     "name": "stdout",
     "output_type": "stream",
     "text": [
      "[densenet121] Epoch 4/30 | TrainLoss 0.4293 | TrainAUC 0.5590 | ValLoss 0.4280 | ValAUC_macro 0.5556 | ValAUC_flat 0.8444 | 55.3s | Peak 2.34 GB\n"
     ]
    },
    {
     "name": "stderr",
     "output_type": "stream",
     "text": [
      "                                                                           \r"
     ]
    },
    {
     "name": "stdout",
     "output_type": "stream",
     "text": [
      "[densenet121] Epoch 5/30 | TrainLoss 0.4209 | TrainAUC 0.6275 | ValLoss 0.4425 | ValAUC_macro 0.5656 | ValAUC_flat 0.8443 | 55.4s | Peak 2.34 GB\n"
     ]
    },
    {
     "name": "stderr",
     "output_type": "stream",
     "text": [
      "                                                                           \r"
     ]
    },
    {
     "name": "stdout",
     "output_type": "stream",
     "text": [
      "[densenet121] Epoch 6/30 | TrainLoss 0.3989 | TrainAUC 0.7232 | ValLoss 0.4370 | ValAUC_macro 0.5564 | ValAUC_flat 0.8412 | 55.4s | Peak 2.34 GB\n"
     ]
    },
    {
     "name": "stderr",
     "output_type": "stream",
     "text": [
      "                                                                           \r"
     ]
    },
    {
     "name": "stdout",
     "output_type": "stream",
     "text": [
      "[densenet121] Epoch 7/30 | TrainLoss 0.3638 | TrainAUC 0.7972 | ValLoss 0.5659 | ValAUC_macro 0.5374 | ValAUC_flat 0.8373 | 55.9s | Peak 2.34 GB\n"
     ]
    },
    {
     "name": "stderr",
     "output_type": "stream",
     "text": [
      "                                                                           \r"
     ]
    },
    {
     "name": "stdout",
     "output_type": "stream",
     "text": [
      "[densenet121] Epoch 8/30 | TrainLoss 0.3209 | TrainAUC 0.8552 | ValLoss 0.5500 | ValAUC_macro 0.5106 | ValAUC_flat 0.7652 | 55.4s | Peak 2.34 GB\n"
     ]
    },
    {
     "name": "stderr",
     "output_type": "stream",
     "text": [
      "                                                                           \r"
     ]
    },
    {
     "name": "stdout",
     "output_type": "stream",
     "text": [
      "[densenet121] Epoch 9/30 | TrainLoss 0.2736 | TrainAUC 0.8925 | ValLoss 0.6668 | ValAUC_macro 0.4980 | ValAUC_flat 0.7763 | 55.8s | Peak 2.34 GB\n"
     ]
    },
    {
     "name": "stderr",
     "output_type": "stream",
     "text": [
      "                                                                            \r"
     ]
    },
    {
     "name": "stdout",
     "output_type": "stream",
     "text": [
      "[densenet121] Epoch 10/30 | TrainLoss 0.2211 | TrainAUC 0.9248 | ValLoss 0.5894 | ValAUC_macro 0.5558 | ValAUC_flat 0.8103 | 55.6s | Peak 2.34 GB\n"
     ]
    },
    {
     "name": "stderr",
     "output_type": "stream",
     "text": [
      "                                                                            \r"
     ]
    },
    {
     "name": "stdout",
     "output_type": "stream",
     "text": [
      "[densenet121] Epoch 11/30 | TrainLoss 0.1830 | TrainAUC 0.9450 | ValLoss 0.7147 | ValAUC_macro 0.5215 | ValAUC_flat 0.8200 | 55.7s | Peak 2.34 GB\n"
     ]
    },
    {
     "name": "stderr",
     "output_type": "stream",
     "text": [
      "                                                                            \r"
     ]
    },
    {
     "name": "stdout",
     "output_type": "stream",
     "text": [
      "[densenet121] Epoch 12/30 | TrainLoss 0.1517 | TrainAUC 0.9494 | ValLoss 0.7775 | ValAUC_macro 0.5578 | ValAUC_flat 0.6770 | 55.7s | Peak 2.34 GB\n"
     ]
    },
    {
     "name": "stderr",
     "output_type": "stream",
     "text": [
      "                                                                            \r"
     ]
    },
    {
     "name": "stdout",
     "output_type": "stream",
     "text": [
      "[densenet121] Epoch 13/30 | TrainLoss 0.1280 | TrainAUC 0.9679 | ValLoss 0.7868 | ValAUC_macro 0.5240 | ValAUC_flat 0.7733 | 55.4s | Peak 2.34 GB\n"
     ]
    },
    {
     "name": "stderr",
     "output_type": "stream",
     "text": [
      "                                                                            \r"
     ]
    },
    {
     "name": "stdout",
     "output_type": "stream",
     "text": [
      "[densenet121] Epoch 14/30 | TrainLoss 0.1055 | TrainAUC 0.9719 | ValLoss 0.8196 | ValAUC_macro 0.5364 | ValAUC_flat 0.7349 | 55.5s | Peak 2.34 GB\n"
     ]
    },
    {
     "name": "stderr",
     "output_type": "stream",
     "text": [
      "                                                                            \r"
     ]
    },
    {
     "name": "stdout",
     "output_type": "stream",
     "text": [
      "[densenet121] Epoch 15/30 | TrainLoss 0.0933 | TrainAUC 0.9750 | ValLoss 0.9944 | ValAUC_macro 0.5407 | ValAUC_flat 0.6569 | 55.7s | Peak 2.34 GB\n"
     ]
    },
    {
     "name": "stderr",
     "output_type": "stream",
     "text": [
      "                                                                            \r"
     ]
    },
    {
     "name": "stdout",
     "output_type": "stream",
     "text": [
      "[densenet121] Epoch 16/30 | TrainLoss 0.0807 | TrainAUC 0.9819 | ValLoss 0.9093 | ValAUC_macro 0.5808 | ValAUC_flat 0.7596 | 55.8s | Peak 2.34 GB\n"
     ]
    },
    {
     "name": "stderr",
     "output_type": "stream",
     "text": [
      "                                                                            \r"
     ]
    },
    {
     "name": "stdout",
     "output_type": "stream",
     "text": [
      "[densenet121] Epoch 17/30 | TrainLoss 0.0708 | TrainAUC 0.9858 | ValLoss 1.3414 | ValAUC_macro 0.5202 | ValAUC_flat 0.7968 | 55.5s | Peak 2.34 GB\n"
     ]
    },
    {
     "name": "stderr",
     "output_type": "stream",
     "text": [
      "                                                                            \r"
     ]
    },
    {
     "name": "stdout",
     "output_type": "stream",
     "text": [
      "[densenet121] Epoch 18/30 | TrainLoss 0.0705 | TrainAUC 0.9844 | ValLoss 1.1243 | ValAUC_macro 0.5620 | ValAUC_flat 0.6292 | 55.5s | Peak 2.34 GB\n"
     ]
    },
    {
     "name": "stderr",
     "output_type": "stream",
     "text": [
      "                                                                            \r"
     ]
    },
    {
     "name": "stdout",
     "output_type": "stream",
     "text": [
      "[densenet121] Epoch 19/30 | TrainLoss 0.0627 | TrainAUC 0.9849 | ValLoss 0.9208 | ValAUC_macro 0.5407 | ValAUC_flat 0.7074 | 55.3s | Peak 2.34 GB\n"
     ]
    },
    {
     "name": "stderr",
     "output_type": "stream",
     "text": [
      "                                                                            \r"
     ]
    },
    {
     "name": "stdout",
     "output_type": "stream",
     "text": [
      "[densenet121] Epoch 20/30 | TrainLoss 0.0570 | TrainAUC 0.9905 | ValLoss 1.1481 | ValAUC_macro 0.5074 | ValAUC_flat 0.7664 | 55.4s | Peak 2.34 GB\n"
     ]
    },
    {
     "name": "stderr",
     "output_type": "stream",
     "text": [
      "                                                                            \r"
     ]
    },
    {
     "name": "stdout",
     "output_type": "stream",
     "text": [
      "[densenet121] Epoch 21/30 | TrainLoss 0.0536 | TrainAUC 0.9936 | ValLoss 1.1686 | ValAUC_macro 0.5343 | ValAUC_flat 0.7830 | 55.8s | Peak 2.34 GB\n"
     ]
    },
    {
     "name": "stderr",
     "output_type": "stream",
     "text": [
      "                                                                            \r"
     ]
    },
    {
     "name": "stdout",
     "output_type": "stream",
     "text": [
      "[densenet121] Epoch 22/30 | TrainLoss 0.0506 | TrainAUC 0.9924 | ValLoss 1.7165 | ValAUC_macro 0.4950 | ValAUC_flat 0.7319 | 55.6s | Peak 2.34 GB\n"
     ]
    },
    {
     "name": "stderr",
     "output_type": "stream",
     "text": [
      "                                                                            \r"
     ]
    },
    {
     "name": "stdout",
     "output_type": "stream",
     "text": [
      "[densenet121] Epoch 23/30 | TrainLoss 0.0453 | TrainAUC 0.9943 | ValLoss 1.2648 | ValAUC_macro 0.5152 | ValAUC_flat 0.7478 | 55.6s | Peak 2.34 GB\n"
     ]
    },
    {
     "name": "stderr",
     "output_type": "stream",
     "text": [
      "                                                                            \r"
     ]
    },
    {
     "name": "stdout",
     "output_type": "stream",
     "text": [
      "[densenet121] Epoch 24/30 | TrainLoss 0.0414 | TrainAUC 0.9950 | ValLoss 1.4241 | ValAUC_macro 0.4653 | ValAUC_flat 0.7791 | 55.7s | Peak 2.34 GB\n"
     ]
    },
    {
     "name": "stderr",
     "output_type": "stream",
     "text": [
      "                                                                            \r"
     ]
    },
    {
     "name": "stdout",
     "output_type": "stream",
     "text": [
      "[densenet121] Epoch 25/30 | TrainLoss 0.0425 | TrainAUC 0.9968 | ValLoss 1.6884 | ValAUC_macro 0.4642 | ValAUC_flat 0.8189 | 55.5s | Peak 2.34 GB\n"
     ]
    },
    {
     "name": "stderr",
     "output_type": "stream",
     "text": [
      "                                                                            \r"
     ]
    },
    {
     "name": "stdout",
     "output_type": "stream",
     "text": [
      "[densenet121] Epoch 26/30 | TrainLoss 0.0403 | TrainAUC 0.9956 | ValLoss 2.2108 | ValAUC_macro 0.5061 | ValAUC_flat 0.8112 | 55.3s | Peak 2.34 GB\n"
     ]
    },
    {
     "name": "stderr",
     "output_type": "stream",
     "text": [
      "                                                                            \r"
     ]
    },
    {
     "name": "stdout",
     "output_type": "stream",
     "text": [
      "[densenet121] Epoch 27/30 | TrainLoss 0.0367 | TrainAUC 0.9950 | ValLoss 1.2838 | ValAUC_macro 0.4801 | ValAUC_flat 0.7925 | 55.8s | Peak 2.34 GB\n"
     ]
    },
    {
     "name": "stderr",
     "output_type": "stream",
     "text": [
      "                                                                            \r"
     ]
    },
    {
     "name": "stdout",
     "output_type": "stream",
     "text": [
      "[densenet121] Epoch 28/30 | TrainLoss 0.0329 | TrainAUC 0.9980 | ValLoss 1.3728 | ValAUC_macro 0.5350 | ValAUC_flat 0.7867 | 55.4s | Peak 2.34 GB\n"
     ]
    },
    {
     "name": "stderr",
     "output_type": "stream",
     "text": [
      "                                                                            \r"
     ]
    },
    {
     "name": "stdout",
     "output_type": "stream",
     "text": [
      "[densenet121] Epoch 29/30 | TrainLoss 0.0358 | TrainAUC 0.9957 | ValLoss 1.2177 | ValAUC_macro 0.5426 | ValAUC_flat 0.7870 | 55.4s | Peak 2.34 GB\n"
     ]
    },
    {
     "name": "stderr",
     "output_type": "stream",
     "text": [
      "                                                                            \r"
     ]
    },
    {
     "name": "stdout",
     "output_type": "stream",
     "text": [
      "[densenet121] Epoch 30/30 | TrainLoss 0.0381 | TrainAUC 0.9979 | ValLoss 1.3837 | ValAUC_macro 0.5417 | ValAUC_flat 0.8018 | 55.3s | Peak 2.34 GB\n",
      "\n",
      "[FINISHED TRAINING] densenet121 | total_train_sec=1637.3s | overall_train_peak_gpu=2.34 GB\n",
      "Saved CUDA memory summary → ./checkpoints/memory_summary_train_densenet121.txt\n"
     ]
    },
    {
     "name": "stderr",
     "output_type": "stream",
     "text": [
      "                                                                   \r"
     ]
    },
    {
     "name": "stdout",
     "output_type": "stream",
     "text": [
      "[EVAL DONE] densenet121 | test_macro_auc=0.5608 | test_flat_auc=0.8250 | eval_sec=14.4s | eval_peak_gpu=0.52 GB\n",
      "\n",
      "================================================================================\n",
      "[LATE FUSION] Training backbone: efficientnet_b2\n",
      "================================================================================\n"
     ]
    },
    {
     "name": "stderr",
     "output_type": "stream",
     "text": [
      "                                                                               \r"
     ]
    },
    {
     "name": "stdout",
     "output_type": "stream",
     "text": [
      "[efficientnet_b2] Epoch 1/30 | TrainLoss 0.4483 | TrainAUC 0.4774 | ValLoss 0.4301 | ValAUC_macro 0.5341 | ValAUC_flat 0.8441 | 23.5s | Peak 0.42 GB\n",
      "  Saved best @ epoch 1: 0.5341 → ./checkpoints/late_fusion_efficientnet_b2.pt\n"
     ]
    },
    {
     "name": "stderr",
     "output_type": "stream",
     "text": [
      "                                                                               \r"
     ]
    },
    {
     "name": "stdout",
     "output_type": "stream",
     "text": [
      "[efficientnet_b2] Epoch 2/30 | TrainLoss 0.4352 | TrainAUC 0.5203 | ValLoss 0.4301 | ValAUC_macro 0.4997 | ValAUC_flat 0.8427 | 23.6s | Peak 0.42 GB\n"
     ]
    },
    {
     "name": "stderr",
     "output_type": "stream",
     "text": [
      "                                                                               \r"
     ]
    },
    {
     "name": "stdout",
     "output_type": "stream",
     "text": [
      "[efficientnet_b2] Epoch 3/30 | TrainLoss 0.4382 | TrainAUC 0.5222 | ValLoss 0.4288 | ValAUC_macro 0.4841 | ValAUC_flat 0.8464 | 46.1s | Peak 2.31 GB\n"
     ]
    },
    {
     "name": "stderr",
     "output_type": "stream",
     "text": [
      "                                                                               \r"
     ]
    },
    {
     "name": "stdout",
     "output_type": "stream",
     "text": [
      "[efficientnet_b2] Epoch 4/30 | TrainLoss 0.4290 | TrainAUC 0.5731 | ValLoss 0.4270 | ValAUC_macro 0.5038 | ValAUC_flat 0.8472 | 46.2s | Peak 2.31 GB\n"
     ]
    },
    {
     "name": "stderr",
     "output_type": "stream",
     "text": [
      "                                                                               \r"
     ]
    },
    {
     "name": "stdout",
     "output_type": "stream",
     "text": [
      "[efficientnet_b2] Epoch 5/30 | TrainLoss 0.4259 | TrainAUC 0.5955 | ValLoss 0.4329 | ValAUC_macro 0.5143 | ValAUC_flat 0.8452 | 46.6s | Peak 2.31 GB\n"
     ]
    },
    {
     "name": "stderr",
     "output_type": "stream",
     "text": [
      "                                                                               \r"
     ]
    },
    {
     "name": "stdout",
     "output_type": "stream",
     "text": [
      "[efficientnet_b2] Epoch 6/30 | TrainLoss 0.4170 | TrainAUC 0.6512 | ValLoss 0.4397 | ValAUC_macro 0.5173 | ValAUC_flat 0.8404 | 46.7s | Peak 2.31 GB\n"
     ]
    },
    {
     "name": "stderr",
     "output_type": "stream",
     "text": [
      "                                                                               \r"
     ]
    },
    {
     "name": "stdout",
     "output_type": "stream",
     "text": [
      "[efficientnet_b2] Epoch 7/30 | TrainLoss 0.4041 | TrainAUC 0.7072 | ValLoss 0.4391 | ValAUC_macro 0.5035 | ValAUC_flat 0.8344 | 46.6s | Peak 2.31 GB\n"
     ]
    },
    {
     "name": "stderr",
     "output_type": "stream",
     "text": [
      "                                                                               \r"
     ]
    },
    {
     "name": "stdout",
     "output_type": "stream",
     "text": [
      "[efficientnet_b2] Epoch 8/30 | TrainLoss 0.3863 | TrainAUC 0.7609 | ValLoss 0.4596 | ValAUC_macro 0.4940 | ValAUC_flat 0.8313 | 46.6s | Peak 2.31 GB\n"
     ]
    },
    {
     "name": "stderr",
     "output_type": "stream",
     "text": [
      "                                                                               \r"
     ]
    },
    {
     "name": "stdout",
     "output_type": "stream",
     "text": [
      "[efficientnet_b2] Epoch 9/30 | TrainLoss 0.3667 | TrainAUC 0.7993 | ValLoss 0.4832 | ValAUC_macro 0.4918 | ValAUC_flat 0.8160 | 46.6s | Peak 2.31 GB\n"
     ]
    },
    {
     "name": "stderr",
     "output_type": "stream",
     "text": [
      "                                                                                \r"
     ]
    },
    {
     "name": "stdout",
     "output_type": "stream",
     "text": [
      "[efficientnet_b2] Epoch 10/30 | TrainLoss 0.3494 | TrainAUC 0.8315 | ValLoss 0.5020 | ValAUC_macro 0.4919 | ValAUC_flat 0.8061 | 46.5s | Peak 2.31 GB\n"
     ]
    },
    {
     "name": "stderr",
     "output_type": "stream",
     "text": [
      "                                                                                \r"
     ]
    },
    {
     "name": "stdout",
     "output_type": "stream",
     "text": [
      "[efficientnet_b2] Epoch 11/30 | TrainLoss 0.3267 | TrainAUC 0.8637 | ValLoss 0.5402 | ValAUC_macro 0.5040 | ValAUC_flat 0.8061 | 47.2s | Peak 2.31 GB\n"
     ]
    },
    {
     "name": "stderr",
     "output_type": "stream",
     "text": [
      "                                                                                \r"
     ]
    },
    {
     "name": "stdout",
     "output_type": "stream",
     "text": [
      "[efficientnet_b2] Epoch 12/30 | TrainLoss 0.3109 | TrainAUC 0.8707 | ValLoss 0.5310 | ValAUC_macro 0.4789 | ValAUC_flat 0.7922 | 47.0s | Peak 2.31 GB\n"
     ]
    },
    {
     "name": "stderr",
     "output_type": "stream",
     "text": [
      "                                                                                \r"
     ]
    },
    {
     "name": "stdout",
     "output_type": "stream",
     "text": [
      "[efficientnet_b2] Epoch 13/30 | TrainLoss 0.2932 | TrainAUC 0.8979 | ValLoss 0.5723 | ValAUC_macro 0.4895 | ValAUC_flat 0.7689 | 46.7s | Peak 2.31 GB\n"
     ]
    },
    {
     "name": "stderr",
     "output_type": "stream",
     "text": [
      "                                                                                \r"
     ]
    },
    {
     "name": "stdout",
     "output_type": "stream",
     "text": [
      "[efficientnet_b2] Epoch 14/30 | TrainLoss 0.2730 | TrainAUC 0.9105 | ValLoss 0.5633 | ValAUC_macro 0.4784 | ValAUC_flat 0.7910 | 46.8s | Peak 2.31 GB\n"
     ]
    },
    {
     "name": "stderr",
     "output_type": "stream",
     "text": [
      "                                                                                \r"
     ]
    },
    {
     "name": "stdout",
     "output_type": "stream",
     "text": [
      "[efficientnet_b2] Epoch 15/30 | TrainLoss 0.2571 | TrainAUC 0.9263 | ValLoss 0.6176 | ValAUC_macro 0.4793 | ValAUC_flat 0.8018 | 46.4s | Peak 2.31 GB\n"
     ]
    },
    {
     "name": "stderr",
     "output_type": "stream",
     "text": [
      "                                                                                \r"
     ]
    },
    {
     "name": "stdout",
     "output_type": "stream",
     "text": [
      "[efficientnet_b2] Epoch 16/30 | TrainLoss 0.2454 | TrainAUC 0.9230 | ValLoss 0.6018 | ValAUC_macro 0.4794 | ValAUC_flat 0.7844 | 47.2s | Peak 2.31 GB\n"
     ]
    },
    {
     "name": "stderr",
     "output_type": "stream",
     "text": [
      "                                                                                \r"
     ]
    },
    {
     "name": "stdout",
     "output_type": "stream",
     "text": [
      "[efficientnet_b2] Epoch 17/30 | TrainLoss 0.2278 | TrainAUC 0.9360 | ValLoss 0.6392 | ValAUC_macro 0.4860 | ValAUC_flat 0.7645 | 46.7s | Peak 2.31 GB\n"
     ]
    },
    {
     "name": "stderr",
     "output_type": "stream",
     "text": [
      "                                                                                \r"
     ]
    },
    {
     "name": "stdout",
     "output_type": "stream",
     "text": [
      "[efficientnet_b2] Epoch 18/30 | TrainLoss 0.2143 | TrainAUC 0.9434 | ValLoss 0.6620 | ValAUC_macro 0.5090 | ValAUC_flat 0.7783 | 47.3s | Peak 2.31 GB\n"
     ]
    },
    {
     "name": "stderr",
     "output_type": "stream",
     "text": [
      "                                                                                \r"
     ]
    },
    {
     "name": "stdout",
     "output_type": "stream",
     "text": [
      "[efficientnet_b2] Epoch 19/30 | TrainLoss 0.2026 | TrainAUC 0.9590 | ValLoss 0.6700 | ValAUC_macro 0.4913 | ValAUC_flat 0.7891 | 46.8s | Peak 2.31 GB\n"
     ]
    },
    {
     "name": "stderr",
     "output_type": "stream",
     "text": [
      "                                                                                \r"
     ]
    },
    {
     "name": "stdout",
     "output_type": "stream",
     "text": [
      "[efficientnet_b2] Epoch 20/30 | TrainLoss 0.1910 | TrainAUC 0.9619 | ValLoss 0.6918 | ValAUC_macro 0.4822 | ValAUC_flat 0.7736 | 46.9s | Peak 2.31 GB\n"
     ]
    },
    {
     "name": "stderr",
     "output_type": "stream",
     "text": [
      "                                                                                \r"
     ]
    },
    {
     "name": "stdout",
     "output_type": "stream",
     "text": [
      "[efficientnet_b2] Epoch 21/30 | TrainLoss 0.1780 | TrainAUC 0.9632 | ValLoss 0.7535 | ValAUC_macro 0.5313 | ValAUC_flat 0.7704 | 46.9s | Peak 2.31 GB\n"
     ]
    },
    {
     "name": "stderr",
     "output_type": "stream",
     "text": [
      "                                                                                \r"
     ]
    },
    {
     "name": "stdout",
     "output_type": "stream",
     "text": [
      "[efficientnet_b2] Epoch 22/30 | TrainLoss 0.1704 | TrainAUC 0.9677 | ValLoss 0.7496 | ValAUC_macro 0.5277 | ValAUC_flat 0.7811 | 47.0s | Peak 2.31 GB\n"
     ]
    },
    {
     "name": "stderr",
     "output_type": "stream",
     "text": [
      "                                                                                \r"
     ]
    },
    {
     "name": "stdout",
     "output_type": "stream",
     "text": [
      "[efficientnet_b2] Epoch 23/30 | TrainLoss 0.1580 | TrainAUC 0.9735 | ValLoss 0.8013 | ValAUC_macro 0.5181 | ValAUC_flat 0.7718 | 46.6s | Peak 2.31 GB\n"
     ]
    },
    {
     "name": "stderr",
     "output_type": "stream",
     "text": [
      "                                                                                \r"
     ]
    },
    {
     "name": "stdout",
     "output_type": "stream",
     "text": [
      "[efficientnet_b2] Epoch 24/30 | TrainLoss 0.1513 | TrainAUC 0.9701 | ValLoss 0.8531 | ValAUC_macro 0.4876 | ValAUC_flat 0.7670 | 46.7s | Peak 2.31 GB\n"
     ]
    },
    {
     "name": "stderr",
     "output_type": "stream",
     "text": [
      "                                                                                \r"
     ]
    },
    {
     "name": "stdout",
     "output_type": "stream",
     "text": [
      "[efficientnet_b2] Epoch 25/30 | TrainLoss 0.1431 | TrainAUC 0.9806 | ValLoss 0.7831 | ValAUC_macro 0.5207 | ValAUC_flat 0.7821 | 46.7s | Peak 2.31 GB\n"
     ]
    },
    {
     "name": "stderr",
     "output_type": "stream",
     "text": [
      "                                                                                \r"
     ]
    },
    {
     "name": "stdout",
     "output_type": "stream",
     "text": [
      "[efficientnet_b2] Epoch 26/30 | TrainLoss 0.1372 | TrainAUC 0.9804 | ValLoss 0.8605 | ValAUC_macro 0.5213 | ValAUC_flat 0.7664 | 46.7s | Peak 2.31 GB\n"
     ]
    },
    {
     "name": "stderr",
     "output_type": "stream",
     "text": [
      "                                                                                \r"
     ]
    },
    {
     "name": "stdout",
     "output_type": "stream",
     "text": [
      "[efficientnet_b2] Epoch 27/30 | TrainLoss 0.1259 | TrainAUC 0.9835 | ValLoss 0.8796 | ValAUC_macro 0.5406 | ValAUC_flat 0.7674 | 46.7s | Peak 2.31 GB\n",
      "  Saved best @ epoch 27: 0.5406 → ./checkpoints/late_fusion_efficientnet_b2.pt\n"
     ]
    },
    {
     "name": "stderr",
     "output_type": "stream",
     "text": [
      "                                                                                \r"
     ]
    },
    {
     "name": "stdout",
     "output_type": "stream",
     "text": [
      "[efficientnet_b2] Epoch 28/30 | TrainLoss 0.1230 | TrainAUC 0.9849 | ValLoss 0.8550 | ValAUC_macro 0.5084 | ValAUC_flat 0.7564 | 46.9s | Peak 2.31 GB\n"
     ]
    },
    {
     "name": "stderr",
     "output_type": "stream",
     "text": [
      "                                                                                \r"
     ]
    },
    {
     "name": "stdout",
     "output_type": "stream",
     "text": [
      "[efficientnet_b2] Epoch 29/30 | TrainLoss 0.1190 | TrainAUC 0.9863 | ValLoss 0.9152 | ValAUC_macro 0.5305 | ValAUC_flat 0.7604 | 46.6s | Peak 2.31 GB\n"
     ]
    },
    {
     "name": "stderr",
     "output_type": "stream",
     "text": [
      "                                                                                \r"
     ]
    },
    {
     "name": "stdout",
     "output_type": "stream",
     "text": [
      "[efficientnet_b2] Epoch 30/30 | TrainLoss 0.1101 | TrainAUC 0.9869 | ValLoss 0.9316 | ValAUC_macro 0.5243 | ValAUC_flat 0.7867 | 47.0s | Peak 2.31 GB\n",
      "\n",
      "[FINISHED TRAINING] efficientnet_b2 | total_train_sec=1356.0s | overall_train_peak_gpu=2.31 GB\n",
      "Saved CUDA memory summary → ./checkpoints/memory_summary_train_efficientnet_b2.txt\n"
     ]
    },
    {
     "name": "stderr",
     "output_type": "stream",
     "text": [
      "                                                                       \r"
     ]
    },
    {
     "name": "stdout",
     "output_type": "stream",
     "text": [
      "[EVAL DONE] efficientnet_b2 | test_macro_auc=0.4968 | test_flat_auc=0.7277 | eval_sec=14.3s | eval_peak_gpu=0.55 GB\n",
      "\n",
      "================================================================================\n",
      "[LATE FUSION] Training backbone: convnext_tiny\n",
      "================================================================================\n"
     ]
    },
    {
     "name": "stderr",
     "output_type": "stream",
     "text": [
      "                                                                             \r"
     ]
    },
    {
     "name": "stdout",
     "output_type": "stream",
     "text": [
      "[convnext_tiny] Epoch 1/30 | TrainLoss 0.4488 | TrainAUC 0.4962 | ValLoss 0.4304 | ValAUC_macro 0.5390 | ValAUC_flat 0.8447 | 27.6s | Peak 0.56 GB\n",
      "  Saved best @ epoch 1: 0.5390 → ./checkpoints/late_fusion_convnext_tiny.pt\n"
     ]
    },
    {
     "name": "stderr",
     "output_type": "stream",
     "text": [
      "                                                                             \r"
     ]
    },
    {
     "name": "stdout",
     "output_type": "stream",
     "text": [
      "[convnext_tiny] Epoch 2/30 | TrainLoss 0.4339 | TrainAUC 0.5151 | ValLoss 0.4272 | ValAUC_macro 0.6249 | ValAUC_flat 0.8462 | 27.4s | Peak 0.56 GB\n",
      "  Saved best @ epoch 2: 0.6249 → ./checkpoints/late_fusion_convnext_tiny.pt\n"
     ]
    },
    {
     "name": "stderr",
     "output_type": "stream",
     "text": [
      "                                                                             \r"
     ]
    },
    {
     "name": "stdout",
     "output_type": "stream",
     "text": [
      "[convnext_tiny] Epoch 3/30 | TrainLoss 0.4335 | TrainAUC 0.5058 | ValLoss 0.4285 | ValAUC_macro 0.5599 | ValAUC_flat 0.8464 | 54.4s | Peak 2.48 GB\n"
     ]
    },
    {
     "name": "stderr",
     "output_type": "stream",
     "text": [
      "                                                                             \r"
     ]
    },
    {
     "name": "stdout",
     "output_type": "stream",
     "text": [
      "[convnext_tiny] Epoch 4/30 | TrainLoss 0.4324 | TrainAUC 0.5083 | ValLoss 0.4311 | ValAUC_macro 0.5638 | ValAUC_flat 0.8443 | 54.4s | Peak 2.48 GB\n"
     ]
    },
    {
     "name": "stderr",
     "output_type": "stream",
     "text": [
      "                                                                             \r"
     ]
    },
    {
     "name": "stdout",
     "output_type": "stream",
     "text": [
      "[convnext_tiny] Epoch 5/30 | TrainLoss 0.4308 | TrainAUC 0.5196 | ValLoss 0.4275 | ValAUC_macro 0.5513 | ValAUC_flat 0.8475 | 54.5s | Peak 2.48 GB\n"
     ]
    },
    {
     "name": "stderr",
     "output_type": "stream",
     "text": [
      "                                                                             \r"
     ]
    },
    {
     "name": "stdout",
     "output_type": "stream",
     "text": [
      "[convnext_tiny] Epoch 6/30 | TrainLoss 0.4292 | TrainAUC 0.5372 | ValLoss 0.4304 | ValAUC_macro 0.5452 | ValAUC_flat 0.8446 | 54.6s | Peak 2.48 GB\n"
     ]
    },
    {
     "name": "stderr",
     "output_type": "stream",
     "text": [
      "                                                                             \r"
     ]
    },
    {
     "name": "stdout",
     "output_type": "stream",
     "text": [
      "[convnext_tiny] Epoch 7/30 | TrainLoss 0.4287 | TrainAUC 0.5554 | ValLoss 0.4268 | ValAUC_macro 0.5596 | ValAUC_flat 0.8459 | 54.4s | Peak 2.48 GB\n"
     ]
    },
    {
     "name": "stderr",
     "output_type": "stream",
     "text": [
      "                                                                             \r"
     ]
    },
    {
     "name": "stdout",
     "output_type": "stream",
     "text": [
      "[convnext_tiny] Epoch 8/30 | TrainLoss 0.4288 | TrainAUC 0.5600 | ValLoss 0.4267 | ValAUC_macro 0.5819 | ValAUC_flat 0.8472 | 54.3s | Peak 2.48 GB\n"
     ]
    },
    {
     "name": "stderr",
     "output_type": "stream",
     "text": [
      "                                                                             \r"
     ]
    },
    {
     "name": "stdout",
     "output_type": "stream",
     "text": [
      "[convnext_tiny] Epoch 9/30 | TrainLoss 0.4276 | TrainAUC 0.5757 | ValLoss 0.4289 | ValAUC_macro 0.5524 | ValAUC_flat 0.8447 | 54.4s | Peak 2.48 GB\n"
     ]
    },
    {
     "name": "stderr",
     "output_type": "stream",
     "text": [
      "                                                                              \r"
     ]
    },
    {
     "name": "stdout",
     "output_type": "stream",
     "text": [
      "[convnext_tiny] Epoch 10/30 | TrainLoss 0.4255 | TrainAUC 0.5880 | ValLoss 0.4308 | ValAUC_macro 0.5663 | ValAUC_flat 0.8463 | 54.5s | Peak 2.48 GB\n"
     ]
    },
    {
     "name": "stderr",
     "output_type": "stream",
     "text": [
      "                                                                              \r"
     ]
    },
    {
     "name": "stdout",
     "output_type": "stream",
     "text": [
      "[convnext_tiny] Epoch 11/30 | TrainLoss 0.4254 | TrainAUC 0.5827 | ValLoss 0.4351 | ValAUC_macro 0.5239 | ValAUC_flat 0.8400 | 54.5s | Peak 2.48 GB\n"
     ]
    },
    {
     "name": "stderr",
     "output_type": "stream",
     "text": [
      "                                                                              \r"
     ]
    },
    {
     "name": "stdout",
     "output_type": "stream",
     "text": [
      "[convnext_tiny] Epoch 12/30 | TrainLoss 0.4228 | TrainAUC 0.6127 | ValLoss 0.4334 | ValAUC_macro 0.5254 | ValAUC_flat 0.8416 | 54.5s | Peak 2.48 GB\n"
     ]
    },
    {
     "name": "stderr",
     "output_type": "stream",
     "text": [
      "                                                                              \r"
     ]
    },
    {
     "name": "stdout",
     "output_type": "stream",
     "text": [
      "[convnext_tiny] Epoch 13/30 | TrainLoss 0.4213 | TrainAUC 0.6387 | ValLoss 0.4326 | ValAUC_macro 0.5741 | ValAUC_flat 0.8428 | 54.6s | Peak 2.48 GB\n"
     ]
    },
    {
     "name": "stderr",
     "output_type": "stream",
     "text": [
      "                                                                              \r"
     ]
    },
    {
     "name": "stdout",
     "output_type": "stream",
     "text": [
      "[convnext_tiny] Epoch 14/30 | TrainLoss 0.4180 | TrainAUC 0.6452 | ValLoss 0.4343 | ValAUC_macro 0.5499 | ValAUC_flat 0.8388 | 54.6s | Peak 2.48 GB\n"
     ]
    },
    {
     "name": "stderr",
     "output_type": "stream",
     "text": [
      "                                                                              \r"
     ]
    },
    {
     "name": "stdout",
     "output_type": "stream",
     "text": [
      "[convnext_tiny] Epoch 15/30 | TrainLoss 0.4140 | TrainAUC 0.6617 | ValLoss 0.4350 | ValAUC_macro 0.5738 | ValAUC_flat 0.8404 | 54.6s | Peak 2.48 GB\n"
     ]
    },
    {
     "name": "stderr",
     "output_type": "stream",
     "text": [
      "                                                                              \r"
     ]
    },
    {
     "name": "stdout",
     "output_type": "stream",
     "text": [
      "[convnext_tiny] Epoch 16/30 | TrainLoss 0.4088 | TrainAUC 0.7000 | ValLoss 0.4386 | ValAUC_macro 0.5850 | ValAUC_flat 0.8420 | 54.4s | Peak 2.48 GB\n"
     ]
    },
    {
     "name": "stderr",
     "output_type": "stream",
     "text": [
      "                                                                              \r"
     ]
    },
    {
     "name": "stdout",
     "output_type": "stream",
     "text": [
      "[convnext_tiny] Epoch 17/30 | TrainLoss 0.4032 | TrainAUC 0.7035 | ValLoss 0.4486 | ValAUC_macro 0.5525 | ValAUC_flat 0.8298 | 54.5s | Peak 2.48 GB\n"
     ]
    },
    {
     "name": "stderr",
     "output_type": "stream",
     "text": [
      "                                                                              \r"
     ]
    },
    {
     "name": "stdout",
     "output_type": "stream",
     "text": [
      "[convnext_tiny] Epoch 18/30 | TrainLoss 0.3939 | TrainAUC 0.7448 | ValLoss 0.4506 | ValAUC_macro 0.5793 | ValAUC_flat 0.8347 | 54.6s | Peak 2.48 GB\n"
     ]
    },
    {
     "name": "stderr",
     "output_type": "stream",
     "text": [
      "                                                                              \r"
     ]
    },
    {
     "name": "stdout",
     "output_type": "stream",
     "text": [
      "[convnext_tiny] Epoch 19/30 | TrainLoss 0.3840 | TrainAUC 0.7686 | ValLoss 0.4691 | ValAUC_macro 0.5803 | ValAUC_flat 0.8258 | 54.7s | Peak 2.48 GB\n"
     ]
    },
    {
     "name": "stderr",
     "output_type": "stream",
     "text": [
      "                                                                              \r"
     ]
    },
    {
     "name": "stdout",
     "output_type": "stream",
     "text": [
      "[convnext_tiny] Epoch 20/30 | TrainLoss 0.3721 | TrainAUC 0.7820 | ValLoss 0.4664 | ValAUC_macro 0.5644 | ValAUC_flat 0.8267 | 54.3s | Peak 2.48 GB\n"
     ]
    },
    {
     "name": "stderr",
     "output_type": "stream",
     "text": [
      "                                                                              \r"
     ]
    },
    {
     "name": "stdout",
     "output_type": "stream",
     "text": [
      "[convnext_tiny] Epoch 21/30 | TrainLoss 0.3617 | TrainAUC 0.8079 | ValLoss 0.4778 | ValAUC_macro 0.5891 | ValAUC_flat 0.8216 | 54.3s | Peak 2.48 GB\n"
     ]
    },
    {
     "name": "stderr",
     "output_type": "stream",
     "text": [
      "                                                                              \r"
     ]
    },
    {
     "name": "stdout",
     "output_type": "stream",
     "text": [
      "[convnext_tiny] Epoch 22/30 | TrainLoss 0.3491 | TrainAUC 0.8260 | ValLoss 0.4926 | ValAUC_macro 0.5693 | ValAUC_flat 0.8201 | 54.8s | Peak 2.48 GB\n"
     ]
    },
    {
     "name": "stderr",
     "output_type": "stream",
     "text": [
      "                                                                              \r"
     ]
    },
    {
     "name": "stdout",
     "output_type": "stream",
     "text": [
      "[convnext_tiny] Epoch 23/30 | TrainLoss 0.3351 | TrainAUC 0.8358 | ValLoss 0.5355 | ValAUC_macro 0.5826 | ValAUC_flat 0.8152 | 54.6s | Peak 2.48 GB\n"
     ]
    },
    {
     "name": "stderr",
     "output_type": "stream",
     "text": [
      "                                                                              \r"
     ]
    },
    {
     "name": "stdout",
     "output_type": "stream",
     "text": [
      "[convnext_tiny] Epoch 24/30 | TrainLoss 0.3215 | TrainAUC 0.8661 | ValLoss 0.5317 | ValAUC_macro 0.5872 | ValAUC_flat 0.8102 | 54.8s | Peak 2.48 GB\n"
     ]
    },
    {
     "name": "stderr",
     "output_type": "stream",
     "text": [
      "                                                                              \r"
     ]
    },
    {
     "name": "stdout",
     "output_type": "stream",
     "text": [
      "[convnext_tiny] Epoch 25/30 | TrainLoss 0.3070 | TrainAUC 0.8659 | ValLoss 0.5570 | ValAUC_macro 0.5823 | ValAUC_flat 0.8103 | 54.5s | Peak 2.48 GB\n"
     ]
    },
    {
     "name": "stderr",
     "output_type": "stream",
     "text": [
      "                                                                              \r"
     ]
    },
    {
     "name": "stdout",
     "output_type": "stream",
     "text": [
      "[convnext_tiny] Epoch 26/30 | TrainLoss 0.2933 | TrainAUC 0.8797 | ValLoss 0.6088 | ValAUC_macro 0.5868 | ValAUC_flat 0.8174 | 54.6s | Peak 2.48 GB\n"
     ]
    },
    {
     "name": "stderr",
     "output_type": "stream",
     "text": [
      "                                                                              \r"
     ]
    },
    {
     "name": "stdout",
     "output_type": "stream",
     "text": [
      "[convnext_tiny] Epoch 27/30 | TrainLoss 0.2814 | TrainAUC 0.8897 | ValLoss 0.6388 | ValAUC_macro 0.5727 | ValAUC_flat 0.8104 | 54.6s | Peak 2.48 GB\n"
     ]
    },
    {
     "name": "stderr",
     "output_type": "stream",
     "text": [
      "                                                                              \r"
     ]
    },
    {
     "name": "stdout",
     "output_type": "stream",
     "text": [
      "[convnext_tiny] Epoch 28/30 | TrainLoss 0.2640 | TrainAUC 0.8987 | ValLoss 0.6343 | ValAUC_macro 0.5788 | ValAUC_flat 0.8137 | 54.5s | Peak 2.48 GB\n"
     ]
    },
    {
     "name": "stderr",
     "output_type": "stream",
     "text": [
      "                                                                              \r"
     ]
    },
    {
     "name": "stdout",
     "output_type": "stream",
     "text": [
      "[convnext_tiny] Epoch 29/30 | TrainLoss 0.2514 | TrainAUC 0.9176 | ValLoss 0.6692 | ValAUC_macro 0.5759 | ValAUC_flat 0.7911 | 54.5s | Peak 2.48 GB\n"
     ]
    },
    {
     "name": "stderr",
     "output_type": "stream",
     "text": [
      "                                                                              \r"
     ]
    },
    {
     "name": "stdout",
     "output_type": "stream",
     "text": [
      "[convnext_tiny] Epoch 30/30 | TrainLoss 0.2379 | TrainAUC 0.9282 | ValLoss 0.6843 | ValAUC_macro 0.5754 | ValAUC_flat 0.7936 | 54.4s | Peak 2.48 GB\n",
      "\n",
      "[FINISHED TRAINING] convnext_tiny | total_train_sec=1581.4s | overall_train_peak_gpu=2.48 GB\n",
      "Saved CUDA memory summary → ./checkpoints/memory_summary_train_convnext_tiny.txt\n"
     ]
    },
    {
     "name": "stderr",
     "output_type": "stream",
     "text": [
      "                                                                     \r"
     ]
    },
    {
     "name": "stdout",
     "output_type": "stream",
     "text": [
      "[EVAL DONE] convnext_tiny | test_macro_auc=0.5106 | test_flat_auc=0.8238 | eval_sec=14.9s | eval_peak_gpu=1.03 GB\n",
      "\n",
      "================================================================================\n",
      "[LATE FUSION] Training backbone: vgg16_bn\n",
      "================================================================================\n"
     ]
    },
    {
     "name": "stderr",
     "output_type": "stream",
     "text": [
      "                                                                        \r"
     ]
    },
    {
     "name": "stdout",
     "output_type": "stream",
     "text": [
      "[vgg16_bn] Epoch 1/30 | TrainLoss 0.4499 | TrainAUC 0.4914 | ValLoss 0.4309 | ValAUC_macro 0.5376 | ValAUC_flat 0.8435 | 37.7s | Peak 1.37 GB\n",
      "  Saved best @ epoch 1: 0.5376 → ./checkpoints/late_fusion_vgg16_bn.pt\n"
     ]
    },
    {
     "name": "stderr",
     "output_type": "stream",
     "text": [
      "                                                                        \r"
     ]
    },
    {
     "name": "stdout",
     "output_type": "stream",
     "text": [
      "[vgg16_bn] Epoch 2/30 | TrainLoss 0.4334 | TrainAUC 0.5375 | ValLoss 0.4309 | ValAUC_macro 0.4895 | ValAUC_flat 0.8442 | 89.1s | Peak 2.57 GB\n"
     ]
    },
    {
     "name": "stderr",
     "output_type": "stream",
     "text": [
      "                                                                        \r"
     ]
    },
    {
     "name": "stdout",
     "output_type": "stream",
     "text": [
      "[vgg16_bn] Epoch 3/30 | TrainLoss 0.4329 | TrainAUC 0.5290 | ValLoss 0.4286 | ValAUC_macro 0.4857 | ValAUC_flat 0.8427 | 89.3s | Peak 2.57 GB\n"
     ]
    },
    {
     "name": "stderr",
     "output_type": "stream",
     "text": [
      "                                                                        \r"
     ]
    },
    {
     "name": "stdout",
     "output_type": "stream",
     "text": [
      "[vgg16_bn] Epoch 4/30 | TrainLoss 0.4317 | TrainAUC 0.5276 | ValLoss 0.4260 | ValAUC_macro 0.5496 | ValAUC_flat 0.8474 | 89.1s | Peak 2.57 GB\n",
      "  Saved best @ epoch 4: 0.5496 → ./checkpoints/late_fusion_vgg16_bn.pt\n"
     ]
    },
    {
     "name": "stderr",
     "output_type": "stream",
     "text": [
      "                                                                        \r"
     ]
    },
    {
     "name": "stdout",
     "output_type": "stream",
     "text": [
      "[vgg16_bn] Epoch 5/30 | TrainLoss 0.4303 | TrainAUC 0.5217 | ValLoss 0.4287 | ValAUC_macro 0.5561 | ValAUC_flat 0.8448 | 89.5s | Peak 2.57 GB\n",
      "  Saved best @ epoch 5: 0.5561 → ./checkpoints/late_fusion_vgg16_bn.pt\n"
     ]
    },
    {
     "name": "stderr",
     "output_type": "stream",
     "text": [
      "                                                                        \r"
     ]
    },
    {
     "name": "stdout",
     "output_type": "stream",
     "text": [
      "[vgg16_bn] Epoch 6/30 | TrainLoss 0.4291 | TrainAUC 0.5664 | ValLoss 0.4285 | ValAUC_macro 0.5584 | ValAUC_flat 0.8449 | 89.3s | Peak 2.57 GB\n",
      "  Saved best @ epoch 6: 0.5584 → ./checkpoints/late_fusion_vgg16_bn.pt\n"
     ]
    },
    {
     "name": "stderr",
     "output_type": "stream",
     "text": [
      "                                                                        \r"
     ]
    },
    {
     "name": "stdout",
     "output_type": "stream",
     "text": [
      "[vgg16_bn] Epoch 7/30 | TrainLoss 0.4288 | TrainAUC 0.5552 | ValLoss 0.4336 | ValAUC_macro 0.5193 | ValAUC_flat 0.8445 | 89.4s | Peak 2.57 GB\n"
     ]
    },
    {
     "name": "stderr",
     "output_type": "stream",
     "text": [
      "                                                                        \r"
     ]
    },
    {
     "name": "stdout",
     "output_type": "stream",
     "text": [
      "[vgg16_bn] Epoch 8/30 | TrainLoss 0.4267 | TrainAUC 0.5634 | ValLoss 0.4267 | ValAUC_macro 0.5470 | ValAUC_flat 0.8478 | 89.5s | Peak 2.57 GB\n"
     ]
    },
    {
     "name": "stderr",
     "output_type": "stream",
     "text": [
      "                                                                        \r"
     ]
    },
    {
     "name": "stdout",
     "output_type": "stream",
     "text": [
      "[vgg16_bn] Epoch 9/30 | TrainLoss 0.4257 | TrainAUC 0.6119 | ValLoss 0.4296 | ValAUC_macro 0.5292 | ValAUC_flat 0.8449 | 89.4s | Peak 2.57 GB\n"
     ]
    },
    {
     "name": "stderr",
     "output_type": "stream",
     "text": [
      "                                                                         \r"
     ]
    },
    {
     "name": "stdout",
     "output_type": "stream",
     "text": [
      "[vgg16_bn] Epoch 10/30 | TrainLoss 0.4227 | TrainAUC 0.6062 | ValLoss 0.4299 | ValAUC_macro 0.5340 | ValAUC_flat 0.8447 | 89.5s | Peak 2.57 GB\n"
     ]
    },
    {
     "name": "stderr",
     "output_type": "stream",
     "text": [
      "                                                                         \r"
     ]
    },
    {
     "name": "stdout",
     "output_type": "stream",
     "text": [
      "[vgg16_bn] Epoch 11/30 | TrainLoss 0.4235 | TrainAUC 0.6068 | ValLoss 0.4293 | ValAUC_macro 0.5603 | ValAUC_flat 0.8439 | 89.5s | Peak 2.57 GB\n",
      "  Saved best @ epoch 11: 0.5603 → ./checkpoints/late_fusion_vgg16_bn.pt\n"
     ]
    },
    {
     "name": "stderr",
     "output_type": "stream",
     "text": [
      "                                                                         \r"
     ]
    },
    {
     "name": "stdout",
     "output_type": "stream",
     "text": [
      "[vgg16_bn] Epoch 12/30 | TrainLoss 0.4213 | TrainAUC 0.6134 | ValLoss 0.4418 | ValAUC_macro 0.5227 | ValAUC_flat 0.8353 | 89.4s | Peak 2.57 GB\n"
     ]
    },
    {
     "name": "stderr",
     "output_type": "stream",
     "text": [
      "                                                                         \r"
     ]
    },
    {
     "name": "stdout",
     "output_type": "stream",
     "text": [
      "[vgg16_bn] Epoch 13/30 | TrainLoss 0.4129 | TrainAUC 0.6732 | ValLoss 0.4491 | ValAUC_macro 0.4899 | ValAUC_flat 0.8307 | 89.4s | Peak 2.57 GB\n"
     ]
    },
    {
     "name": "stderr",
     "output_type": "stream",
     "text": [
      "                                                                         \r"
     ]
    },
    {
     "name": "stdout",
     "output_type": "stream",
     "text": [
      "[vgg16_bn] Epoch 14/30 | TrainLoss 0.4021 | TrainAUC 0.6977 | ValLoss 0.4597 | ValAUC_macro 0.4913 | ValAUC_flat 0.8292 | 89.5s | Peak 2.57 GB\n"
     ]
    },
    {
     "name": "stderr",
     "output_type": "stream",
     "text": [
      "                                                                         \r"
     ]
    },
    {
     "name": "stdout",
     "output_type": "stream",
     "text": [
      "[vgg16_bn] Epoch 15/30 | TrainLoss 0.3862 | TrainAUC 0.7303 | ValLoss 0.4764 | ValAUC_macro 0.5311 | ValAUC_flat 0.8217 | 89.3s | Peak 2.57 GB\n"
     ]
    },
    {
     "name": "stderr",
     "output_type": "stream",
     "text": [
      "                                                                         \r"
     ]
    },
    {
     "name": "stdout",
     "output_type": "stream",
     "text": [
      "[vgg16_bn] Epoch 16/30 | TrainLoss 0.3679 | TrainAUC 0.7592 | ValLoss 0.4869 | ValAUC_macro 0.5251 | ValAUC_flat 0.8162 | 89.6s | Peak 2.57 GB\n"
     ]
    },
    {
     "name": "stderr",
     "output_type": "stream",
     "text": [
      "                                                                         \r"
     ]
    },
    {
     "name": "stdout",
     "output_type": "stream",
     "text": [
      "[vgg16_bn] Epoch 17/30 | TrainLoss 0.3467 | TrainAUC 0.7872 | ValLoss 0.5140 | ValAUC_macro 0.5684 | ValAUC_flat 0.8024 | 89.3s | Peak 2.57 GB\n",
      "  Saved best @ epoch 17: 0.5684 → ./checkpoints/late_fusion_vgg16_bn.pt\n"
     ]
    },
    {
     "name": "stderr",
     "output_type": "stream",
     "text": [
      "                                                                         \r"
     ]
    },
    {
     "name": "stdout",
     "output_type": "stream",
     "text": [
      "[vgg16_bn] Epoch 18/30 | TrainLoss 0.3223 | TrainAUC 0.8184 | ValLoss 0.5340 | ValAUC_macro 0.5650 | ValAUC_flat 0.8046 | 89.2s | Peak 2.57 GB\n"
     ]
    },
    {
     "name": "stderr",
     "output_type": "stream",
     "text": [
      "                                                                         \r"
     ]
    },
    {
     "name": "stdout",
     "output_type": "stream",
     "text": [
      "[vgg16_bn] Epoch 19/30 | TrainLoss 0.3042 | TrainAUC 0.8301 | ValLoss 0.5542 | ValAUC_macro 0.5585 | ValAUC_flat 0.7932 | 89.4s | Peak 2.57 GB\n"
     ]
    },
    {
     "name": "stderr",
     "output_type": "stream",
     "text": [
      "                                                                         \r"
     ]
    },
    {
     "name": "stdout",
     "output_type": "stream",
     "text": [
      "[vgg16_bn] Epoch 20/30 | TrainLoss 0.2895 | TrainAUC 0.8438 | ValLoss 0.5518 | ValAUC_macro 0.5523 | ValAUC_flat 0.7972 | 89.2s | Peak 2.57 GB\n"
     ]
    },
    {
     "name": "stderr",
     "output_type": "stream",
     "text": [
      "                                                                         \r"
     ]
    },
    {
     "name": "stdout",
     "output_type": "stream",
     "text": [
      "[vgg16_bn] Epoch 21/30 | TrainLoss 0.2765 | TrainAUC 0.8669 | ValLoss 0.5833 | ValAUC_macro 0.5665 | ValAUC_flat 0.7868 | 89.9s | Peak 2.57 GB\n"
     ]
    },
    {
     "name": "stderr",
     "output_type": "stream",
     "text": [
      "                                                                         \r"
     ]
    },
    {
     "name": "stdout",
     "output_type": "stream",
     "text": [
      "[vgg16_bn] Epoch 22/30 | TrainLoss 0.2666 | TrainAUC 0.8653 | ValLoss 0.6203 | ValAUC_macro 0.5345 | ValAUC_flat 0.7729 | 89.4s | Peak 2.57 GB\n"
     ]
    },
    {
     "name": "stderr",
     "output_type": "stream",
     "text": [
      "                                                                         \r"
     ]
    },
    {
     "name": "stdout",
     "output_type": "stream",
     "text": [
      "[vgg16_bn] Epoch 23/30 | TrainLoss 0.2558 | TrainAUC 0.8737 | ValLoss 0.5919 | ValAUC_macro 0.5401 | ValAUC_flat 0.7816 | 89.6s | Peak 2.57 GB\n"
     ]
    },
    {
     "name": "stderr",
     "output_type": "stream",
     "text": [
      "                                                                         \r"
     ]
    },
    {
     "name": "stdout",
     "output_type": "stream",
     "text": [
      "[vgg16_bn] Epoch 24/30 | TrainLoss 0.2445 | TrainAUC 0.8958 | ValLoss 0.7163 | ValAUC_macro 0.5464 | ValAUC_flat 0.7598 | 90.0s | Peak 2.57 GB\n"
     ]
    },
    {
     "name": "stderr",
     "output_type": "stream",
     "text": [
      "                                                                         \r"
     ]
    },
    {
     "name": "stdout",
     "output_type": "stream",
     "text": [
      "[vgg16_bn] Epoch 25/30 | TrainLoss 0.2322 | TrainAUC 0.9109 | ValLoss 0.6889 | ValAUC_macro 0.5434 | ValAUC_flat 0.7806 | 90.0s | Peak 2.57 GB\n"
     ]
    },
    {
     "name": "stderr",
     "output_type": "stream",
     "text": [
      "                                                                         \r"
     ]
    },
    {
     "name": "stdout",
     "output_type": "stream",
     "text": [
      "[vgg16_bn] Epoch 26/30 | TrainLoss 0.2150 | TrainAUC 0.9112 | ValLoss 0.6774 | ValAUC_macro 0.5377 | ValAUC_flat 0.7559 | 90.0s | Peak 2.57 GB\n"
     ]
    },
    {
     "name": "stderr",
     "output_type": "stream",
     "text": [
      "                                                                         \r"
     ]
    },
    {
     "name": "stdout",
     "output_type": "stream",
     "text": [
      "[vgg16_bn] Epoch 27/30 | TrainLoss 0.1993 | TrainAUC 0.9356 | ValLoss 0.7161 | ValAUC_macro 0.5149 | ValAUC_flat 0.7628 | 89.7s | Peak 2.57 GB\n"
     ]
    },
    {
     "name": "stderr",
     "output_type": "stream",
     "text": [
      "                                                                         \r"
     ]
    },
    {
     "name": "stdout",
     "output_type": "stream",
     "text": [
      "[vgg16_bn] Epoch 28/30 | TrainLoss 0.1807 | TrainAUC 0.9493 | ValLoss 0.7706 | ValAUC_macro 0.5260 | ValAUC_flat 0.7590 | 89.8s | Peak 2.57 GB\n"
     ]
    },
    {
     "name": "stderr",
     "output_type": "stream",
     "text": [
      "                                                                         \r"
     ]
    },
    {
     "name": "stdout",
     "output_type": "stream",
     "text": [
      "[vgg16_bn] Epoch 29/30 | TrainLoss 0.1631 | TrainAUC 0.9567 | ValLoss 0.8166 | ValAUC_macro 0.5125 | ValAUC_flat 0.7711 | 89.4s | Peak 2.57 GB\n"
     ]
    },
    {
     "name": "stderr",
     "output_type": "stream",
     "text": [
      "                                                                         \r"
     ]
    },
    {
     "name": "stdout",
     "output_type": "stream",
     "text": [
      "[vgg16_bn] Epoch 30/30 | TrainLoss 0.1479 | TrainAUC 0.9617 | ValLoss 0.9538 | ValAUC_macro 0.5177 | ValAUC_flat 0.7372 | 89.8s | Peak 2.57 GB\n",
      "\n",
      "[FINISHED TRAINING] vgg16_bn | total_train_sec=2633.3s | overall_train_peak_gpu=2.57 GB\n",
      "Saved CUDA memory summary → ./checkpoints/memory_summary_train_vgg16_bn.txt\n"
     ]
    },
    {
     "name": "stderr",
     "output_type": "stream",
     "text": [
      "                                                                \r"
     ]
    },
    {
     "name": "stdout",
     "output_type": "stream",
     "text": [
      "[EVAL DONE] vgg16_bn | test_macro_auc=0.4480 | test_flat_auc=0.7745 | eval_sec=15.7s | eval_peak_gpu=1.61 GB\n",
      "\n",
      "=== Late Fusion — Sweep Summary ===\n",
      "model_type        backbone  best_val_macro_auc  test_macro_auc  test_flat_auc  train_total_sec  train_avg_epoch_sec  train_peak_gpu_GB  test_eval_sec  test_peak_gpu_GB                                                                                                                                                                          checkpoint                                                                                                                                                                        per_epoch_csv\n",
      "      late        resnet50              0.5882          0.5158         0.8219        1384.8748              46.1625             1.8563        14.6241            0.8806        /data/mahjabeen_workspace/Summer25_Project/symile/new_experiment/symile_fusion_classification/training/CXR_ECG_LABS_Late_Fusionimproving/checkpoints/late_fusion_resnet50.pt        /data/mahjabeen_workspace/Summer25_Project/symile/new_experiment/symile_fusion_classification/training/CXR_ECG_LABS_Late_Fusionimproving/checkpoints/gate_trends_resnet50.csv\n",
      "      late     densenet121              0.5920          0.5608         0.8250        1637.3265              54.5775             2.3446        14.4360            0.5221     /data/mahjabeen_workspace/Summer25_Project/symile/new_experiment/symile_fusion_classification/training/CXR_ECG_LABS_Late_Fusionimproving/checkpoints/late_fusion_densenet121.pt     /data/mahjabeen_workspace/Summer25_Project/symile/new_experiment/symile_fusion_classification/training/CXR_ECG_LABS_Late_Fusionimproving/checkpoints/gate_trends_densenet121.csv\n",
      "      late efficientnet_b2              0.5406          0.4968         0.7277        1356.0332              45.2011             2.3064        14.2619            0.5545 /data/mahjabeen_workspace/Summer25_Project/symile/new_experiment/symile_fusion_classification/training/CXR_ECG_LABS_Late_Fusionimproving/checkpoints/late_fusion_efficientnet_b2.pt /data/mahjabeen_workspace/Summer25_Project/symile/new_experiment/symile_fusion_classification/training/CXR_ECG_LABS_Late_Fusionimproving/checkpoints/gate_trends_efficientnet_b2.csv\n",
      "      late   convnext_tiny              0.6249          0.5106         0.8238        1581.3550              52.7118             2.4845        14.9131            1.0294   /data/mahjabeen_workspace/Summer25_Project/symile/new_experiment/symile_fusion_classification/training/CXR_ECG_LABS_Late_Fusionimproving/checkpoints/late_fusion_convnext_tiny.pt   /data/mahjabeen_workspace/Summer25_Project/symile/new_experiment/symile_fusion_classification/training/CXR_ECG_LABS_Late_Fusionimproving/checkpoints/gate_trends_convnext_tiny.csv\n",
      "      late        vgg16_bn              0.5684          0.4480         0.7745        2633.2819              87.7761             2.5699        15.6817            1.6148        /data/mahjabeen_workspace/Summer25_Project/symile/new_experiment/symile_fusion_classification/training/CXR_ECG_LABS_Late_Fusionimproving/checkpoints/late_fusion_vgg16_bn.pt        /data/mahjabeen_workspace/Summer25_Project/symile/new_experiment/symile_fusion_classification/training/CXR_ECG_LABS_Late_Fusionimproving/checkpoints/gate_trends_vgg16_bn.csv\n",
      "\n",
      "Saved summary → ./checkpoints/late_backbone_sweep_summary.csv\n"
     ]
    }
   ],
   "source": [
    "# === notebook_backbone_sweep_late.py ===\n",
    "import os, time, random, sys, argparse\n",
    "import numpy as np\n",
    "import pandas as pd\n",
    "from tqdm import tqdm\n",
    "\n",
    "import torch\n",
    "from torch.amp import autocast, GradScaler\n",
    "import torch.nn as nn\n",
    "from sklearn.metrics import roc_auc_score\n",
    "\n",
    "from dataloader import get_dataloaders\n",
    "from late_fusion_multibackbone import LateFusionClassifier\n",
    "\n",
    "\n",
    "# -----------------------------\n",
    "# Utilities\n",
    "# -----------------------------\n",
    "def set_global_seed(seed: int = 1337):\n",
    "    os.environ[\"PYTHONHASHSEED\"] = str(seed)\n",
    "    random.seed(seed)\n",
    "    np.random.seed(seed)\n",
    "    torch.manual_seed(seed)\n",
    "    torch.cuda.manual_seed_all(seed)\n",
    "    torch.backends.cudnn.deterministic = True\n",
    "    torch.backends.cudnn.benchmark = False\n",
    "\n",
    "\n",
    "def masked_macro_auroc(y_true_np, y_prob_np):\n",
    "    mask = (y_true_np != -1)\n",
    "    C = y_true_np.shape[1]\n",
    "    scores = []\n",
    "    for c in range(C):\n",
    "        m = mask[:, c]\n",
    "        if m.sum() == 0:\n",
    "            continue\n",
    "        yt = y_true_np[m].astype(np.int32)[:, c]\n",
    "        yp = y_prob_np[m][:, c]\n",
    "        if yt.max() == yt.min():\n",
    "            continue\n",
    "        scores.append(roc_auc_score(yt, yp))\n",
    "    return float(np.mean(scores)) if scores else float(\"nan\")\n",
    "\n",
    "\n",
    "def masked_flat_auroc(y_true_np, y_prob_np):\n",
    "    mask = (y_true_np != -1)\n",
    "    yt = y_true_np[mask].astype(np.int32)\n",
    "    yp = y_prob_np[mask]\n",
    "    return float(roc_auc_score(yt, yp))\n",
    "\n",
    "\n",
    "# --- helper: fully freeze/unfreeze the CXR backbone, including BN stats (optional warmup) ---\n",
    "def set_cxr_frozen(model: LateFusionClassifier, freeze: bool):\n",
    "    # stop/start gradients on all CXR params\n",
    "    for p in model.cxr_encoder.parameters():\n",
    "        p.requires_grad = not freeze\n",
    "    # freeze BN running stats while frozen\n",
    "    for m in model.cxr_encoder.modules():\n",
    "        if isinstance(m, (nn.BatchNorm2d, nn.SyncBatchNorm)):\n",
    "            if freeze:\n",
    "                m.eval(); m.track_running_stats = False\n",
    "            else:\n",
    "                m.train(); m.track_running_stats = True\n",
    "    # keep feature extractor in eval when frozen\n",
    "    model.cxr_encoder.train(not freeze)\n",
    "\n",
    "\n",
    "# -----------------------------\n",
    "# Backbone training defaults (LR scale & freeze warmup like Adaptive/Early)\n",
    "# -----------------------------\n",
    "BACKBONE_DEFAULTS = {\n",
    "    \"resnet50\":        dict(backbone_lr_scale=0.30, freeze_cxr_epochs=1),\n",
    "    \"densenet121\":     dict(backbone_lr_scale=0.30, freeze_cxr_epochs=1),\n",
    "    \"efficientnet_b2\": dict(backbone_lr_scale=0.08, freeze_cxr_epochs=2),\n",
    "    \"convnext_tiny\":   dict(backbone_lr_scale=0.10, freeze_cxr_epochs=2),\n",
    "    \"vgg16_bn\":        dict(backbone_lr_scale=0.30, freeze_cxr_epochs=1),\n",
    "}\n",
    "SUPPORTED_BACKBONES = set(BACKBONE_DEFAULTS.keys())\n",
    "\n",
    "\n",
    "# -----------------------------\n",
    "# Train one backbone (LATE FUSION)\n",
    "# -----------------------------\n",
    "def train_one_backbone(\n",
    "    cxr_backbone: str,\n",
    "    data_dir: str,\n",
    "    save_dir: str,\n",
    "    device,\n",
    "    n_epochs=30,\n",
    "    batch_size=16,\n",
    "    num_workers=4,\n",
    "    lr=1e-4,\n",
    "    weight_decay=1e-5,\n",
    "    lab_input_dim=100,\n",
    "    use_amp=True,\n",
    "    # overrides (None → use defaults)\n",
    "    backbone_lr_scale=None,\n",
    "    freeze_cxr_epochs=None,\n",
    "):\n",
    "    if cxr_backbone not in SUPPORTED_BACKBONES:\n",
    "        raise ValueError(f\"Backbone '{cxr_backbone}' not supported. Choose from {sorted(SUPPORTED_BACKBONES)}.\")\n",
    "\n",
    "    os.makedirs(save_dir, exist_ok=True)\n",
    "    per_epoch_csv = os.path.join(save_dir, f\"gate_trends_{cxr_backbone}.csv\")  # keep name for plotting compatibility\n",
    "    ckpt_path     = os.path.join(save_dir, f\"late_fusion_{cxr_backbone}.pt\")\n",
    "\n",
    "    # ---- merge defaults with overrides ----\n",
    "    cfg = {**BACKBONE_DEFAULTS[cxr_backbone]}\n",
    "    if backbone_lr_scale is not None: cfg[\"backbone_lr_scale\"] = float(backbone_lr_scale)\n",
    "    if freeze_cxr_epochs is not None: cfg[\"freeze_cxr_epochs\"] = int(freeze_cxr_epochs)\n",
    "\n",
    "    # ---- data ----\n",
    "    train_loader, val_loader, test_loader = get_dataloaders(\n",
    "        data_dir, batch_size=batch_size, num_workers=num_workers\n",
    "    )\n",
    "\n",
    "    # ---- model ----\n",
    "    model = LateFusionClassifier(\n",
    "        num_classes=14,\n",
    "        lr=lr,\n",
    "        lab_input_dim=lab_input_dim,\n",
    "        cxr_backbone=cxr_backbone,\n",
    "    ).to(device)\n",
    "\n",
    "    # ---- optimizer with smaller LR for backbone ----\n",
    "    backbone_params = list(model.cxr_encoder.parameters())\n",
    "    other_params = [p for n, p in model.named_parameters()\n",
    "                    if p.requires_grad and not n.startswith(\"cxr_encoder.\")]\n",
    "\n",
    "    optimizer = torch.optim.Adam(\n",
    "        [{\"params\": other_params,   \"lr\": lr},\n",
    "         {\"params\": backbone_params, \"lr\": lr * cfg[\"backbone_lr_scale\"]}],\n",
    "        weight_decay=weight_decay\n",
    "    )\n",
    "    BACKBONE_GROUP_IDX = 1\n",
    "\n",
    "    scaler = GradScaler(device=\"cuda\", enabled=(use_amp and torch.cuda.is_available()))\n",
    "\n",
    "    # ---- tracking ----\n",
    "    best_val_auroc = -1.0\n",
    "    total_train_sec = 0.0\n",
    "    peak_gpu_overall = 0.0\n",
    "    epoch_rows = []\n",
    "\n",
    "    # ---- training loop ----\n",
    "    for epoch in range(n_epochs):\n",
    "        model.train()\n",
    "\n",
    "        # optional: freeze CXR at start to avoid instant dominance\n",
    "        freeze_now = epoch < int(cfg[\"freeze_cxr_epochs\"])\n",
    "        set_cxr_frozen(model, freeze_now)\n",
    "        optimizer.param_groups[BACKBONE_GROUP_IDX][\"lr\"] = (\n",
    "            0.0 if freeze_now else lr * cfg[\"backbone_lr_scale\"]\n",
    "        )\n",
    "\n",
    "        if torch.cuda.is_available():\n",
    "            torch.cuda.reset_peak_memory_stats()\n",
    "        ep_t0 = time.perf_counter()\n",
    "\n",
    "        train_loss_sum = 0.0\n",
    "        y_true_train, y_prob_train = [], []\n",
    "\n",
    "        for cxr, ecg, labs, y in tqdm(train_loader, desc=f\"[{cxr_backbone}] Train {epoch+1}/{n_epochs}\", leave=False):\n",
    "            cxr  = cxr.to(device).float()\n",
    "            labs = labs.to(device).float()\n",
    "            y    = y.to(device)\n",
    "\n",
    "            # ECG to (B,12,T)\n",
    "            ecg = ecg.to(device).float()\n",
    "            if ecg.ndim == 4 and ecg.shape[1] == 1:\n",
    "                ecg = ecg.squeeze(1)\n",
    "            if ecg.shape[1] != 12 and ecg.shape[-1] == 12:\n",
    "                ecg = ecg.permute(0, 2, 1)\n",
    "\n",
    "            optimizer.zero_grad(set_to_none=True)\n",
    "            with autocast(device_type=\"cuda\", enabled=(use_amp and torch.cuda.is_available())):\n",
    "                logits = model(cxr, ecg, labs)                # late fusion has no gates\n",
    "                loss = model.masked_bce_loss(logits, y)\n",
    "\n",
    "            scaler.scale(loss).backward()\n",
    "            scaler.step(optimizer)\n",
    "            scaler.update()\n",
    "\n",
    "            train_loss_sum += float(loss.item())\n",
    "            with torch.no_grad():\n",
    "                y_prob_train.append(torch.sigmoid(logits).cpu().numpy())\n",
    "                y_true_train.append(y.cpu().numpy())\n",
    "\n",
    "        y_prob_train = np.concatenate(y_prob_train)\n",
    "        y_true_train = np.concatenate(y_true_train)\n",
    "        train_auroc = masked_macro_auroc(y_true_train, y_prob_train)\n",
    "        avg_train_loss = train_loss_sum / max(1, len(train_loader))\n",
    "\n",
    "        # ---- validation ----\n",
    "        model.eval()\n",
    "        val_loss_sum = 0.0\n",
    "        y_true_val, y_prob_val = [], []\n",
    "\n",
    "        with torch.no_grad():\n",
    "            for cxr, ecg, labs, y in tqdm(val_loader, desc=f\"[{cxr_backbone}] Val {epoch+1}/{n_epochs}\", leave=False):\n",
    "                cxr  = cxr.to(device).float()\n",
    "                labs = labs.to(device).float()\n",
    "                y    = y.to(device)\n",
    "\n",
    "                ecg = ecg.to(device).float()\n",
    "                if ecg.ndim == 4 and ecg.shape[1] == 1:\n",
    "                    ecg = ecg.squeeze(1)\n",
    "                if ecg.shape[1] != 12 and ecg.shape[-1] == 12:\n",
    "                    ecg = ecg.permute(0, 2, 1)\n",
    "\n",
    "                logits = model(cxr, ecg, labs)\n",
    "                loss = model.masked_bce_loss(logits, y)\n",
    "                val_loss_sum += float(loss.item())\n",
    "\n",
    "                y_prob_val.append(torch.sigmoid(logits).cpu().numpy())\n",
    "                y_true_val.append(y.cpu().numpy())\n",
    "\n",
    "        y_prob_val = np.concatenate(y_prob_val)\n",
    "        y_true_val = np.concatenate(y_true_val)\n",
    "\n",
    "        val_auroc_macro = masked_macro_auroc(y_true_val, y_prob_val)\n",
    "        val_auroc_flat  = masked_flat_auroc(y_true_val, y_prob_val)\n",
    "\n",
    "        # ---- epoch timing & memory ----\n",
    "        ep_time = time.perf_counter() - ep_t0\n",
    "        total_train_sec += ep_time\n",
    "        peak_mem_gb = (torch.cuda.max_memory_allocated() / 1e9) if torch.cuda.is_available() else 0.0\n",
    "        peak_gpu_overall = max(peak_gpu_overall, peak_mem_gb)\n",
    "\n",
    "        print(f\"[{cxr_backbone}] Epoch {epoch+1}/{n_epochs} | \"\n",
    "              f\"TrainLoss {avg_train_loss:.4f} | TrainAUC {train_auroc:.4f} | \"\n",
    "              f\"ValLoss {val_loss_sum/len(val_loader):.4f} | \"\n",
    "              f\"ValAUC_macro {val_auroc_macro:.4f} | ValAUC_flat {val_auroc_flat:.4f} | \"\n",
    "              f\"{ep_time:.1f}s | Peak {peak_mem_gb:.2f} GB\")\n",
    "\n",
    "        # save best\n",
    "        if val_auroc_macro > best_val_auroc:\n",
    "            best_val_auroc = val_auroc_macro\n",
    "            torch.save(model.state_dict(), ckpt_path)\n",
    "            print(f\"  Saved best @ epoch {epoch+1}: {best_val_auroc:.4f} → {ckpt_path}\")\n",
    "\n",
    "        # write per‑epoch row (gate_* are NaN to keep plotting compatible)\n",
    "        epoch_rows.append({\n",
    "            \"epoch\": epoch+1,\n",
    "            \"train_loss\": avg_train_loss,\n",
    "            \"val_loss\": val_loss_sum/len(val_loader),\n",
    "            \"train_auroc_macro\": train_auroc,\n",
    "            \"val_auroc_macro\": val_auroc_macro,\n",
    "            \"val_auroc_flat\": val_auroc_flat,\n",
    "            \"gate_ecg\": np.nan,\n",
    "            \"gate_cxr\": np.nan,\n",
    "            \"gate_labs\": np.nan,\n",
    "            \"epoch_sec\": ep_time,\n",
    "            \"peak_mem_GB\": peak_mem_gb,\n",
    "        })\n",
    "        pd.DataFrame(epoch_rows).to_csv(per_epoch_csv, index=False)\n",
    "\n",
    "    # --- After training finished for this backbone: PRINT totals & save CUDA memory summary ---\n",
    "    print(f\"\\n[FINISHED TRAINING] {cxr_backbone} | total_train_sec={total_train_sec:.1f}s | \"\n",
    "          f\"overall_train_peak_gpu={peak_gpu_overall:.2f} GB\")\n",
    "    if torch.cuda.is_available():\n",
    "        mem_txt = os.path.join(save_dir, f\"memory_summary_train_{cxr_backbone}.txt\")\n",
    "        with open(mem_txt, \"w\") as f:\n",
    "            f.write(torch.cuda.memory_summary(device=device, abbreviated=True))\n",
    "        print(f\"Saved CUDA memory summary → {mem_txt}\")\n",
    "\n",
    "    # --- Test evaluation with timing & peak GPU ---\n",
    "    state = torch.load(ckpt_path, map_location=device)\n",
    "    model.load_state_dict(state)\n",
    "    model.eval()\n",
    "\n",
    "    if torch.cuda.is_available():\n",
    "        torch.cuda.reset_peak_memory_stats()\n",
    "    t0 = time.perf_counter()\n",
    "    _, _, test_loader = get_dataloaders(data_dir, batch_size=batch_size, num_workers=num_workers)\n",
    "    test_probs, test_targets = [], []\n",
    "    with torch.no_grad():\n",
    "        for cxr, ecg, labs, y in tqdm(test_loader, desc=f\"[{cxr_backbone}] Test\", leave=False):\n",
    "            cxr  = cxr.to(device).float()\n",
    "            labs = labs.to(device).float()\n",
    "            y    = y.to(device)\n",
    "\n",
    "            ecg = ecg.to(device).float()\n",
    "            if ecg.ndim == 4 and ecg.shape[1] == 1:\n",
    "                ecg = ecg.squeeze(1)\n",
    "            if ecg.shape[1] != 12 and ecg.shape[-1] == 12:\n",
    "                ecg = ecg.permute(0, 2, 1)\n",
    "\n",
    "            logits = model(cxr, ecg, labs)\n",
    "            test_probs.append(torch.sigmoid(logits).cpu().numpy())\n",
    "            test_targets.append(y.cpu().numpy())\n",
    "    test_elapsed = time.perf_counter() - t0\n",
    "    test_peak_gb = (torch.cuda.max_memory_allocated() / 1e9) if torch.cuda.is_available() else 0.0\n",
    "\n",
    "    test_probs   = np.concatenate(test_probs)\n",
    "    test_targets = np.concatenate(test_targets)\n",
    "    test_macro = masked_macro_auroc(test_targets, test_probs)\n",
    "    test_flat  = masked_flat_auroc(test_targets, test_probs)\n",
    "\n",
    "    # print eval stats quickly too\n",
    "    print(f\"[EVAL DONE] {cxr_backbone} | test_macro_auc={test_macro:.4f} | \"\n",
    "          f\"test_flat_auc={test_flat:.4f} | eval_sec={test_elapsed:.1f}s | \"\n",
    "          f\"eval_peak_gpu={test_peak_gb:.2f} GB\")\n",
    "\n",
    "    return {\n",
    "        \"model_type\": \"late\",\n",
    "        \"backbone\": cxr_backbone,\n",
    "        \"best_val_macro_auc\": float(best_val_auroc),\n",
    "        \"test_macro_auc\": float(test_macro),\n",
    "        \"test_flat_auc\": float(test_flat),\n",
    "        \"train_total_sec\": float(total_train_sec),\n",
    "        \"train_avg_epoch_sec\": float(total_train_sec / max(1, len(epoch_rows))),\n",
    "        \"train_peak_gpu_GB\": float(peak_gpu_overall),\n",
    "        \"test_eval_sec\": float(test_elapsed),\n",
    "        \"test_peak_gpu_GB\": float(test_peak_gb),\n",
    "        \"checkpoint\": os.path.abspath(ckpt_path),\n",
    "        \"per_epoch_csv\": os.path.abspath(per_epoch_csv),\n",
    "    }\n",
    "\n",
    "\n",
    "# -----------------------------\n",
    "# Sweep wrapper\n",
    "# -----------------------------\n",
    "def run_backbone_sweep(\n",
    "    data_dir,\n",
    "    save_dir=\"./checkpoints\",\n",
    "    backbones=(\"resnet50\", \"densenet121\", \"efficientnet_b2\", \"convnext_tiny\", \"vgg16_bn\"),\n",
    "    epochs=30,\n",
    "    batch_size=16,\n",
    "    num_workers=4,\n",
    "    seed=1337,\n",
    "    overrides=None,  # dict[str, dict] e.g., {\"resnet50\": {\"freeze_cxr_epochs\":2}}\n",
    "    lr=1e-4,\n",
    "    weight_decay=1e-5,\n",
    "    use_amp=True,\n",
    "    lab_input_dim=100,\n",
    "):\n",
    "    set_global_seed(seed)\n",
    "    device = torch.device(\"cuda\" if torch.cuda.is_available() else \"cpu\")\n",
    "    os.makedirs(save_dir, exist_ok=True)\n",
    "\n",
    "    summary = []\n",
    "    for b in backbones:\n",
    "        if b not in SUPPORTED_BACKBONES:\n",
    "            print(f\"[skip] Backbone '{b}' not supported; choose from {sorted(SUPPORTED_BACKBONES)}\")\n",
    "            continue\n",
    "        print(\"\\n\" + \"=\"*80)\n",
    "        print(f\"[LATE FUSION] Training backbone: {b}\")\n",
    "        print(\"=\"*80)\n",
    "\n",
    "        kw = (overrides or {}).get(b, {})\n",
    "        res = train_one_backbone(\n",
    "            cxr_backbone=b,\n",
    "            data_dir=data_dir,\n",
    "            save_dir=save_dir,\n",
    "            device=device,\n",
    "            n_epochs=epochs,\n",
    "            batch_size=batch_size,\n",
    "            num_workers=num_workers,\n",
    "            lr=lr,\n",
    "            weight_decay=weight_decay,\n",
    "            lab_input_dim=lab_input_dim,\n",
    "            use_amp=use_amp,\n",
    "            **kw,\n",
    "        )\n",
    "        summary.append(res)\n",
    "\n",
    "    df = pd.DataFrame(summary)\n",
    "    out_csv = os.path.join(save_dir, \"late_backbone_sweep_summary.csv\")\n",
    "    df.to_csv(out_csv, index=False)\n",
    "\n",
    "    print(\"\\n=== Late Fusion — Sweep Summary ===\")\n",
    "    if not df.empty:\n",
    "        print(df.round(4).to_string(index=False))\n",
    "        print(f\"\\nSaved summary → {out_csv}\")\n",
    "    else:\n",
    "        print(\"No runs executed (empty).\")\n",
    "    return df\n",
    "\n",
    "\n",
    "# ----------------------------\n",
    "# Optional CLI entry \n",
    "# -----------------------------\n",
    "def _cli():\n",
    "    ap = argparse.ArgumentParser()\n",
    "    ap.add_argument(\"--data_dir\", type=str, default=\"/data/mahjabeen_workspace/Summer25_Project/symile/new_experiment/symile_fusion_classification/data/processed_pt_correctedV2\")\n",
    "    ap.add_argument(\"--save_dir\", type=str, default=\"./checkpoints\")\n",
    "    ap.add_argument(\"--backbones\", type=str, nargs=\"+\",\n",
    "                    default=[\"resnet50\", \"densenet121\", \"efficientnet_b2\", \"convnext_tiny\", \"vgg16_bn\"])\n",
    "    ap.add_argument(\"--epochs\", type=int, default=30)\n",
    "    ap.add_argument(\"--batch_size\", type=int, default=16)\n",
    "    ap.add_argument(\"--num_workers\", type=int, default=4)\n",
    "    ap.add_argument(\"--seed\", type=int, default=1337)\n",
    "    ap.add_argument(\"--lr\", type=float, default=1e-4)\n",
    "    ap.add_argument(\"--weight_decay\", type=float, default=1e-5)\n",
    "    ap.add_argument(\"--lab_input_dim\", type=int, default=100)\n",
    "    ap.add_argument(\"--no_amp\", action=\"store_true\")\n",
    "    args, _unknown = ap.parse_known_args(sys.argv[1:])\n",
    "\n",
    "    run_backbone_sweep(\n",
    "        data_dir=args.data_dir,\n",
    "        save_dir=args.save_dir,\n",
    "        backbones=args.backbones,\n",
    "        epochs=args.epochs,\n",
    "        batch_size=args.batch_size,\n",
    "        num_workers=args.num_workers,\n",
    "        seed=args.seed,\n",
    "        lr=args.lr,\n",
    "        weight_decay=args.weight_decay,\n",
    "        use_amp=not args.no_amp,\n",
    "        lab_input_dim=args.lab_input_dim,\n",
    "        overrides=None,\n",
    "    )\n",
    "\n",
    "\n",
    "if __name__ == \"__main__\":\n",
    "    _cli()\n"
   ]
  },
  {
   "cell_type": "code",
   "execution_count": null,
   "id": "4dc958b4",
   "metadata": {},
   "outputs": [
    {
     "name": "stderr",
     "output_type": "stream",
     "text": [
      "/data/mahjabeen_workspace/Summer25_Project/symile/.venv/lib/python3.12/site-packages/tqdm/auto.py:21: TqdmWarning: IProgress not found. Please update jupyter and ipywidgets. See https://ipywidgets.readthedocs.io/en/stable/user_install.html\n",
      "  from .autonotebook import tqdm as notebook_tqdm\n"
     ]
    },
    {
     "name": "stdout",
     "output_type": "stream",
     "text": [
      "Evaluating resnet50 …\n",
      "Evaluating densenet121 …\n",
      "Evaluating efficientnet_b2 …\n",
      "Evaluating convnext_tiny …\n",
      "Evaluating vgg16_bn …\n",
      "Saved overall summary → ./checkpoints/eval_late/late_summary_overall.csv\n",
      "Saved per‑label AUROC table → ./checkpoints/eval_late/per_label_auroc_all.csv\n",
      "Saved per‑label F1 table   → ./checkpoints/eval_late/per_label_f1_all.csv\n"
     ]
    },
    {
     "name": "stderr",
     "output_type": "stream",
     "text": [
      "/tmp/ipykernel_319027/501294766.py:190: RuntimeWarning: All-NaN slice encountered\n",
      "  best = np.nanmax(row)\n"
     ]
    },
    {
     "data": {
      "image/png": "[encoded data removed]",
      "text/plain": [
       "<Figure size 3360x1320 with 1 Axes>"
      ]
     },
     "metadata": {},
     "output_type": "display_data"
    },
    {
     "name": "stdout",
     "output_type": "stream",
     "text": [
      "Saved: ./checkpoints/eval_late/per_label_auroc_comparison_across_backbones_late.png\n",
      "\n",
      "Topline summary (macro AUROC desc):\n"
     ]
    },
    {
     "data": {
      "text/html": [
       "<div>\n",
       "<style scoped>\n",
       "    .dataframe tbody tr th:only-of-type {\n",
       "        vertical-align: middle;\n",
       "    }\n",
       "\n",
       "    .dataframe tbody tr th {\n",
       "        vertical-align: top;\n",
       "    }\n",
       "\n",
       "    .dataframe thead th {\n",
       "        text-align: right;\n",
       "    }\n",
       "</style>\n",
       "<table border=\"1\" class=\"dataframe\">\n",
       "  <thead>\n",
       "    <tr style=\"text-align: right;\">\n",
       "      <th></th>\n",
       "      <th>backbone</th>\n",
       "      <th>macro_auroc</th>\n",
       "      <th>flat_auroc</th>\n",
       "      <th>eval_sec</th>\n",
       "      <th>eval_peak_gpu_GB</th>\n",
       "    </tr>\n",
       "  </thead>\n",
       "  <tbody>\n",
       "    <tr>\n",
       "      <th>1</th>\n",
       "      <td>densenet121</td>\n",
       "      <td>0.560777</td>\n",
       "      <td>0.824988</td>\n",
       "      <td>1.491758</td>\n",
       "      <td>0.420928</td>\n",
       "    </tr>\n",
       "    <tr>\n",
       "      <th>0</th>\n",
       "      <td>resnet50</td>\n",
       "      <td>0.515780</td>\n",
       "      <td>0.821872</td>\n",
       "      <td>1.672294</td>\n",
       "      <td>0.570010</td>\n",
       "    </tr>\n",
       "    <tr>\n",
       "      <th>3</th>\n",
       "      <td>convnext_tiny</td>\n",
       "      <td>0.510641</td>\n",
       "      <td>0.823822</td>\n",
       "      <td>1.619873</td>\n",
       "      <td>0.654087</td>\n",
       "    </tr>\n",
       "    <tr>\n",
       "      <th>2</th>\n",
       "      <td>efficientnet_b2</td>\n",
       "      <td>0.496758</td>\n",
       "      <td>0.727722</td>\n",
       "      <td>1.221165</td>\n",
       "      <td>0.440433</td>\n",
       "    </tr>\n",
       "    <tr>\n",
       "      <th>4</th>\n",
       "      <td>vgg16_bn</td>\n",
       "      <td>0.448045</td>\n",
       "      <td>0.774451</td>\n",
       "      <td>2.197086</td>\n",
       "      <td>1.414354</td>\n",
       "    </tr>\n",
       "  </tbody>\n",
       "</table>\n",
       "</div>"
      ],
      "text/plain": [
       "          backbone  macro_auroc  flat_auroc  eval_sec  eval_peak_gpu_GB\n",
       "1      densenet121     0.560777    0.824988  1.491758          0.420928\n",
       "0         resnet50     0.515780    0.821872  1.672294          0.570010\n",
       "3    convnext_tiny     0.510641    0.823822  1.619873          0.654087\n",
       "2  efficientnet_b2     0.496758    0.727722  1.221165          0.440433\n",
       "4         vgg16_bn     0.448045    0.774451  2.197086          1.414354"
      ]
     },
     "metadata": {},
     "output_type": "display_data"
    }
   ],
   "source": [
    "# === eval_late_fusion.py  ===\n",
    "import os, time, math, json\n",
    "import numpy as np\n",
    "import pandas as pd\n",
    "import torch\n",
    "from sklearn.metrics import roc_auc_score, f1_score\n",
    "import matplotlib.pyplot as plt\n",
    "\n",
    "from dataloader import get_dataloaders\n",
    "from late_fusion_multibackbone import LateFusionClassifier  \n",
    "\n",
    "SAVE_DIR = \"./checkpoints\"         \n",
    "EVAL_DIR = os.path.join(SAVE_DIR, \"eval_late\")\n",
    "os.makedirs(EVAL_DIR, exist_ok=True)\n",
    "\n",
    "# ---- labels ----\n",
    "LABELS = [\n",
    "    \"Atelectasis\",\"Cardiomegaly\",\"Consolidation\",\"Edema\",\"Enlarged Cardiomediastinum\",\n",
    "    \"Fracture\",\"Lung Lesion\",\"Lung Opacity\",\"No Finding\",\"Pleural Effusion\",\n",
    "    \"Pleural Other\",\"Pneumonia\",\"Pneumothorax\",\"Support Devices\"\n",
    "]\n",
    "\n",
    "BACKBONES = [\"resnet50\",\"densenet121\",\"efficientnet_b2\",\"convnext_tiny\",\"vgg16_bn\"]\n",
    "DEVICE = torch.device(\"cuda\" if torch.cuda.is_available() else \"cpu\")\n",
    "\n",
    "# -----------------------------\n",
    "# Metrics helpers\n",
    "# -----------------------------\n",
    "def masked_per_label_auroc(y_true, y_prob):\n",
    "    \"\"\"Per-label AUROC with CheXpert -1 masking; returns array of shape (C,) with NaN where undefined.\"\"\"\n",
    "    y_true = y_true.copy()\n",
    "    y_prob = y_prob.copy()\n",
    "    C = y_true.shape[1]\n",
    "    out = np.full(C, np.nan, dtype=float)\n",
    "    for c in range(C):\n",
    "        m = (y_true[:, c] != -1)\n",
    "        if m.sum() == 0: \n",
    "            continue\n",
    "        yt = y_true[m, c].astype(np.int32)\n",
    "        yp = y_prob[m, c]\n",
    "        if yt.max() == yt.min():  # only one class present\n",
    "            continue\n",
    "        out[c] = roc_auc_score(yt, yp)\n",
    "    return out\n",
    "\n",
    "def macro_auroc(y_true, y_prob):\n",
    "    vals = masked_per_label_auroc(y_true, y_prob)\n",
    "    return float(np.nanmean(vals))\n",
    "\n",
    "def flat_auroc(y_true, y_prob):\n",
    "    m = (y_true != -1)\n",
    "    yt = y_true[m].astype(np.int32)\n",
    "    yp = y_prob[m]\n",
    "    return float(roc_auc_score(yt, yp))\n",
    "\n",
    "def per_label_f1(y_true, y_prob, thresh=0.5):\n",
    "    \"\"\"Per-label F1 with masking; returns array of shape (C,) with NaN if undefined.\"\"\"\n",
    "    C = y_true.shape[1]\n",
    "    out = np.full(C, np.nan, dtype=float)\n",
    "    for c in range(C):\n",
    "        m = (y_true[:, c] != -1)\n",
    "        if m.sum() == 0:\n",
    "            continue\n",
    "        yt = y_true[m, c].astype(np.int32)\n",
    "        yp = (y_prob[m, c] >= thresh).astype(np.int32)\n",
    "        if yt.max() == yt.min():  # only one class present\n",
    "            continue\n",
    "        out[c] = f1_score(yt, yp)\n",
    "    return out\n",
    "\n",
    "# -----------------------------\n",
    "# Evaluate one backbone\n",
    "# -----------------------------\n",
    "def evaluate_backbone(backbone, data_dir, lab_input_dim=100, batch_size=16, num_workers=4):\n",
    "    ckpt_path = os.path.join(SAVE_DIR, f\"late_fusion_{backbone}.pt\")\n",
    "    assert os.path.exists(ckpt_path), f\"Missing checkpoint: {ckpt_path}\"\n",
    "\n",
    "    # build model & load weights\n",
    "    model = LateFusionClassifier(num_classes=len(LABELS), lr=1e-4,\n",
    "                                 lab_input_dim=lab_input_dim, cxr_backbone=backbone).to(DEVICE)\n",
    "    state = torch.load(ckpt_path, map_location=DEVICE)\n",
    "    model.load_state_dict(state)\n",
    "    model.eval()\n",
    "\n",
    "    # test loader\n",
    "    _, _, test_loader = get_dataloaders(data_dir, batch_size=batch_size, num_workers=num_workers)\n",
    "\n",
    "    # collect\n",
    "    probs_all, targs_all = [], []\n",
    "    t0 = time.perf_counter()\n",
    "    if torch.cuda.is_available():\n",
    "        torch.cuda.reset_peak_memory_stats()\n",
    "\n",
    "    with torch.no_grad():\n",
    "        for cxr, ecg, labs, y in test_loader:\n",
    "            cxr  = cxr.to(DEVICE).float()\n",
    "            labs = labs.to(DEVICE).float()\n",
    "            y    = y.to(DEVICE)\n",
    "\n",
    "            # Coerce ECG to (B,12,T)\n",
    "            ecg = ecg.to(DEVICE).float()\n",
    "            if ecg.ndim == 4 and ecg.shape[1] == 1:\n",
    "                ecg = ecg.squeeze(1)\n",
    "            if ecg.shape[1] != 12 and ecg.shape[-1] == 12:\n",
    "                ecg = ecg.permute(0, 2, 1)\n",
    "\n",
    "            logits = model(cxr, ecg, labs)\n",
    "            probs_all.append(torch.sigmoid(logits).cpu().numpy())\n",
    "            targs_all.append(y.cpu().numpy())\n",
    "\n",
    "    eval_sec = time.perf_counter() - t0\n",
    "    eval_peak_gb = (torch.cuda.max_memory_allocated() / 1e9) if torch.cuda.is_available() else 0.0\n",
    "\n",
    "    y_prob = np.concatenate(probs_all, axis=0)\n",
    "    y_true = np.concatenate(targs_all, axis=0)\n",
    "\n",
    "    # metrics\n",
    "    per_auc = masked_per_label_auroc(y_true, y_prob)\n",
    "    per_f1  = per_label_f1(y_true, y_prob, thresh=0.5)\n",
    "    macro   = macro_auroc(y_true, y_prob)\n",
    "    flat    = flat_auroc(y_true, y_prob)\n",
    "\n",
    "    # save per-backbone CSV\n",
    "    df = pd.DataFrame({\n",
    "        \"label\": LABELS,\n",
    "        \"auroc\": per_auc,\n",
    "        \"f1\":    per_f1,\n",
    "    })\n",
    "    out_csv = os.path.join(EVAL_DIR, f\"per_label_{backbone}.csv\")\n",
    "    df.to_csv(out_csv, index=False)\n",
    "\n",
    "    return {\n",
    "        \"backbone\": backbone,\n",
    "        \"per_label_auroc\": per_auc,\n",
    "        \"per_label_f1\": per_f1,\n",
    "        \"macro_auroc\": macro,\n",
    "        \"flat_auroc\": flat,\n",
    "        \"eval_sec\": eval_sec,\n",
    "        \"eval_peak_gpu_GB\": eval_peak_gb,\n",
    "        \"per_label_csv\": out_csv,\n",
    "    }\n",
    "\n",
    "# -----------------------------\n",
    "# Run evaluation for all backbones\n",
    "# -----------------------------\n",
    "def run_eval_all(backbones, data_dir, lab_input_dim=100, batch_size=16, num_workers=4):\n",
    "    results = []\n",
    "    for b in backbones:\n",
    "        print(f\"Evaluating {b} …\")\n",
    "        res = evaluate_backbone(b, data_dir, lab_input_dim, batch_size, num_workers)\n",
    "        results.append(res)\n",
    "\n",
    "    # Combined summary table (macro/flat + eval cost)\n",
    "    summary_rows = []\n",
    "    for r in results:\n",
    "        summary_rows.append({\n",
    "            \"backbone\": r[\"backbone\"],\n",
    "            \"macro_auroc\": r[\"macro_auroc\"],\n",
    "            \"flat_auroc\": r[\"flat_auroc\"],\n",
    "            \"eval_sec\": r[\"eval_sec\"],\n",
    "            \"eval_peak_gpu_GB\": r[\"eval_peak_gpu_GB\"],\n",
    "        })\n",
    "    summary_df = pd.DataFrame(summary_rows).sort_values(\"macro_auroc\", ascending=False)\n",
    "    summary_csv = os.path.join(EVAL_DIR, \"late_summary_overall.csv\")\n",
    "    summary_df.to_csv(summary_csv, index=False)\n",
    "    print(f\"Saved overall summary → {summary_csv}\")\n",
    "\n",
    "    # Per-label combined table and bold‑best for markdown export\n",
    "    # Build a data frame: rows=label, cols=backbones (AUROC), then +F1 cols if wanted\n",
    "    auc_mat = {}\n",
    "    f1_mat = {}\n",
    "    for r in results:\n",
    "        auc_mat[r[\"backbone\"]] = r[\"per_label_auroc\"]\n",
    "        f1_mat[r[\"backbone\"]]  = r[\"per_label_f1\"]\n",
    "    auc_df = pd.DataFrame(auc_mat, index=LABELS)\n",
    "    f1_df  = pd.DataFrame(f1_mat,  index=LABELS)\n",
    "\n",
    "    auc_path = os.path.join(EVAL_DIR, \"per_label_auroc_all.csv\")\n",
    "    f1_path  = os.path.join(EVAL_DIR, \"per_label_f1_all.csv\")\n",
    "    auc_df.to_csv(auc_path)\n",
    "    f1_df.to_csv(f1_path)\n",
    "    print(f\"Saved per‑label AUROC table → {auc_path}\")\n",
    "    print(f\"Saved per‑label F1 table   → {f1_path}\")\n",
    "\n",
    "    # Markdown‑friendly with bold best per label (AUROC)\n",
    "    md_lines = [\"| Label | \" + \" | \".join(backbones) + \" |\",\n",
    "                \"|\" + \" --- |\" * (len(backbones)+1)]\n",
    "    for lbl in LABELS:\n",
    "        row = auc_df.loc[lbl].values.astype(float)\n",
    "        best = np.nanmax(row)\n",
    "        cells = []\n",
    "        for v in row:\n",
    "            if np.isnan(v):\n",
    "                cells.append(\"—\")\n",
    "            elif abs(v - best) < 1e-12:\n",
    "                cells.append(f\"**{v:.3f}**\")\n",
    "            else:\n",
    "                cells.append(f\"{v:.3f}\")\n",
    "        md_lines.append(\"| \" + lbl + \" | \" + \" | \".join(cells) + \" |\")\n",
    "    md_text = \"\\n\".join(md_lines)\n",
    "    with open(os.path.join(EVAL_DIR, \"per_label_auroc_all.md\"), \"w\") as f:\n",
    "        f.write(md_text)\n",
    "\n",
    "    return results, summary_df, auc_df, f1_df\n",
    "\n",
    "# -----------------------------\n",
    "# Big per‑label AUROC comparison bar chart (across backbones)\n",
    "# -----------------------------\n",
    "def plot_per_label_auroc_across_backbones(auc_df, out_png):\n",
    "    # auc_df: index=LABELS, columns=BACKBONES\n",
    "    plt.rcParams.update({\n",
    "        \"figure.dpi\": 120,\n",
    "        \"font.size\": 14,\n",
    "        \"xtick.labelsize\": 12,\n",
    "        \"ytick.labelsize\": 12,\n",
    "        \"legend.fontsize\": 12,\n",
    "        \"axes.grid\": True, \"grid.alpha\": 0.25,\n",
    "        \"axes.spines.top\": False, \"axes.spines.right\": False,\n",
    "    })\n",
    "\n",
    "    labels = auc_df.index.tolist()\n",
    "    backbones = auc_df.columns.tolist()\n",
    "    n_labels = len(labels)\n",
    "    n_bb = len(backbones)\n",
    "    x = np.arange(n_labels)\n",
    "    width = 0.8 / n_bb\n",
    "\n",
    "    fig, ax = plt.subplots(figsize=(28, 11))\n",
    "    for i, b in enumerate(backbones):\n",
    "        vals = auc_df[b].values.astype(float)\n",
    "        off = (i - (n_bb-1)/2) * width\n",
    "        bars = ax.bar(x + off, vals, width=width, label=b)\n",
    "        # annotate small value above each bar\n",
    "        for rect, v in zip(bars, vals):\n",
    "            if not np.isnan(v):\n",
    "                ax.text(rect.get_x() + rect.get_width()/2, rect.get_height()+0.01,\n",
    "                        f\"{v:.2f}\", ha=\"center\", va=\"bottom\", fontsize=10, rotation=0)\n",
    "\n",
    "    ax.set_ylim(0.0, 1.0)\n",
    "    ax.set_ylabel(\"AUROC\")\n",
    "    ax.set_title(\"Per‑label AUROC Comparison Across Backbones (Late Fusion)\")\n",
    "    ax.set_xticks(x)\n",
    "    ax.set_xticklabels(labels, rotation=35, ha=\"right\")\n",
    "    ax.legend(ncols=min(5, n_bb), loc=\"upper center\", bbox_to_anchor=(0.5, 1.12), frameon=False)\n",
    "\n",
    "    fig.tight_layout()\n",
    "    fig.savefig(out_png, dpi=220, bbox_inches=\"tight\")\n",
    "    plt.show()\n",
    "    print(f\"Saved: {out_png}\")\n",
    "\n",
    "# -----------------------------\n",
    "# RUN\n",
    "# -----------------------------\n",
    "DATA_DIR = \"/data/mahjabeen_workspace/Summer25_Project/symile/new_experiment/symile_fusion_classification/data/processed_pt_correctedV2\"\n",
    "\n",
    "results, summary_df, auc_df, f1_df = run_eval_all(\n",
    "    BACKBONES, data_dir=DATA_DIR, lab_input_dim=100, batch_size=16, num_workers=4\n",
    ")\n",
    "\n",
    "plot_per_label_auroc_across_backbones(\n",
    "    auc_df, out_png=os.path.join(EVAL_DIR, \"per_label_auroc_comparison_across_backbones_late.png\")\n",
    ")\n",
    "\n",
    "print(\"\\nTopline summary (macro AUROC desc):\")\n",
    "display(summary_df)\n"
   ]
  },
  {
   "cell_type": "code",
   "execution_count": null,
   "id": "3ade99c2",
   "metadata": {},
   "outputs": [],
   "source": []
  }
 ],
 "metadata": {
  "kernelspec": {
   "display_name": "symile-py3.12",
   "language": "python",
   "name": "python3"
  },
  "language_info": {
   "codemirror_mode": {
    "name": "ipython",
    "version": 3
   },
   "file_extension": ".py",
   "mimetype": "text/x-python",
   "name": "python",
   "nbconvert_exporter": "python",
   "pygments_lexer": "ipython3",
   "version": "3.12.9"
  }
 },
 "nbformat": 4,
 "nbformat_minor": 5
}
